{
 "cells": [
  {
   "cell_type": "markdown",
   "id": "e56ab63e",
   "metadata": {},
   "source": [
    "# 4.1 스칼라 벡터 행렬 텐서"
   ]
  },
  {
   "cell_type": "markdown",
   "id": "293a321b",
   "metadata": {},
   "source": [
    "## 411_스칼라"
   ]
  },
  {
   "cell_type": "markdown",
   "id": "0cf435a0",
   "metadata": {},
   "source": [
    "## 413_벡터\n",
    "스칼라를 직선상에 나열한 것"
   ]
  },
  {
   "cell_type": "code",
   "execution_count": 1,
   "id": "c003cc6f",
   "metadata": {},
   "outputs": [
    {
     "name": "stdout",
     "output_type": "stream",
     "text": [
      "[1 2 3]\n"
     ]
    }
   ],
   "source": [
    "# 리스트 4.2_Numpy의 1차원 배열로 나타낸다\n",
    "import numpy as np\n",
    "\n",
    "a = np.array([1,2,3]) # 1차원 배열로 벡터를 나타낸다.\n",
    "print(a)"
   ]
  },
  {
   "cell_type": "markdown",
   "id": "906e1f94",
   "metadata": {},
   "source": [
    "## 415_행렬\n",
    "\n",
    "행렬은 스칼라를 격자 형태로 나열한 것"
   ]
  },
  {
   "cell_type": "code",
   "execution_count": 1,
   "id": "6bb333e7",
   "metadata": {},
   "outputs": [
    {
     "name": "stdout",
     "output_type": "stream",
     "text": [
      "[[1 2 3]\n",
      " [4 5 6]]\n"
     ]
    }
   ],
   "source": [
    "# 리스트 4.3_행렬을 Numpy의 2차원 배열로 나타낸다.\n",
    "import numpy as np\n",
    "\n",
    "a = np.array([[1,2,3],\n",
    "             [4,5,6]]) # 2x3의 행렬\n",
    "print(a)"
   ]
  },
  {
   "cell_type": "markdown",
   "id": "c5921a8c",
   "metadata": {},
   "source": [
    "## 417_텐서\n",
    "텐서는 스칼라를 여러 개의 차원으로 나열한 것\n",
    "스칼라, 벡터, 행렬을 포함한다."
   ]
  },
  {
   "cell_type": "code",
   "execution_count": 2,
   "id": "250940a0",
   "metadata": {},
   "outputs": [
    {
     "name": "stdout",
     "output_type": "stream",
     "text": [
      "[[[0 1 2 3]\n",
      "  [2 3 4 5]\n",
      "  [4 5 6 7]]\n",
      "\n",
      " [[1 2 3 4]\n",
      "  [3 4 5 6]\n",
      "  [5 6 7 8]]]\n"
     ]
    }
   ],
   "source": [
    "# 리스트 4.4_3층의 텐서를 Numpy의 배열로 나타낸다.\n",
    "import numpy as np\n",
    "\n",
    "a = np.array([[[0,1,2,3],\n",
    "              [2,3,4,5],\n",
    "              [4,5,6,7]],\n",
    "             \n",
    "             [[1,2,3,4],\n",
    "             [3,4,5,6],\n",
    "             [5,6,7,8]]]) # (2, 3, 4)-> (2차원 3행 4열)의 3차원 텐서\n",
    "print(a)"
   ]
  },
  {
   "cell_type": "markdown",
   "id": "de85625c",
   "metadata": {},
   "source": [
    "# 4.2_벡터의 내적과 놈"
   ]
  },
  {
   "cell_type": "markdown",
   "id": "a1f7dd14",
   "metadata": {},
   "source": [
    "## 421_내적\n",
    "벡터끼리 곱의 한 종류\n",
    "\n",
    "각 요소끼리 곱한 값을 총합\n",
    "\n",
    "제한: 두 개의 벡터의 요소 수가 같아야 한다.\n",
    "\n",
    "#### dot() \n",
    "함수로 간단하게 구할 수 있다.\n",
    "\n",
    "#### sum()함수\n",
    "를 이용해서 각 요소의 곱의 총합으로도 구할 수 있다.\n",
    "\n",
    "#### 두 개 데이터의 상관관계를 구할 때 등에 사용\n"
   ]
  },
  {
   "cell_type": "code",
   "execution_count": 3,
   "id": "0d49c596",
   "metadata": {},
   "outputs": [
    {
     "name": "stdout",
     "output_type": "stream",
     "text": [
      "-------dot함수-------\n",
      "10\n",
      "\n",
      "-------sum함수-------\n",
      "10\n"
     ]
    }
   ],
   "source": [
    "# 리스트 4.6_벡터의 내적을 계산한다.\n",
    "import numpy as np\n",
    "\n",
    "a = np.array([1,2,3])\n",
    "b = np.array([3,2,1])\n",
    "\n",
    "print('-------dot함수-------')\n",
    "print(np.dot(a,b))\n",
    "print()\n",
    "print('-------sum함수-------')\n",
    "print(sum(a*b))"
   ]
  },
  {
   "cell_type": "markdown",
   "id": "38777681",
   "metadata": {},
   "source": [
    "## 423_놈\n",
    "벡터의 '크기'를 나타내는 양\n",
    "\n",
    "#### L2놈 np.linalg.norm() --> 디폴트가 L2인 함수\n",
    "벡터의 각 요소를 제곱합하여 제곱근을 구함\n",
    "\n",
    "#### L1놈 np.linalg.norm(,1) --> 1을 줘서 L1놈 구함 \n",
    "벡터의 각 요소의 절댓값을 더해서 계산\n",
    "<br>\n",
    "<br>\n",
    "#### 놈은 인공지능에서 정칙화에 쓰인다.\n",
    "정칙화란 필요 이상으로 네트워크 학습이 진행되는 것을 파라미터로 조절해서 예방하는 것\n",
    "\n",
    "\n",
    "##### linalg는 Linear Algebra라는 선형 대수학의 준말인듯"
   ]
  },
  {
   "cell_type": "code",
   "execution_count": 4,
   "id": "e7c5c3d8",
   "metadata": {},
   "outputs": [
    {
     "name": "stdout",
     "output_type": "stream",
     "text": [
      "-------L2놈-------\n",
      "2.0\n",
      "\n",
      "-------L1놈-------\n",
      "4.0\n"
     ]
    }
   ],
   "source": [
    "# 리스트 4.7_linalg.norm()함수를 사용해 놈을 계산한다.\n",
    "import numpy as np\n",
    "\n",
    "a = np.array([1, 1, -1, -1])\n",
    "\n",
    "print('-------L2놈-------')\n",
    "print(np.linalg.norm(a))\n",
    "print()\n",
    "print('-------L1놈-------')\n",
    "print(np.linalg.norm(a,1))"
   ]
  },
  {
   "cell_type": "markdown",
   "id": "eeca1977",
   "metadata": {},
   "source": [
    "# 4.3_ 행렬곱 vs 요소별 곱(아다마르 곱)\n",
    "\n",
    "행렬곱은 dot() 함수를 사용한다."
   ]
  },
  {
   "cell_type": "code",
   "execution_count": 5,
   "id": "e2eaa3a1",
   "metadata": {},
   "outputs": [
    {
     "name": "stdout",
     "output_type": "stream",
     "text": [
      "[[12  6]\n",
      " [30 15]]\n"
     ]
    }
   ],
   "source": [
    "# 리스트 4.10_ Numpy를 사용해서 행렬곱을 계산한다.\n",
    "import numpy as np\n",
    "\n",
    "a = np.array([[1,2,3],\n",
    "             [4,5,6]]) # 2x3의 행렬\n",
    "\n",
    "b = np.array([[2,1],\n",
    "             [2,1],\n",
    "             [2,1]])\n",
    "\n",
    "print(np.dot(a, b))"
   ]
  },
  {
   "cell_type": "code",
   "execution_count": 6,
   "id": "cd4e95d4",
   "metadata": {},
   "outputs": [
    {
     "name": "stdout",
     "output_type": "stream",
     "text": [
      "-------요소별 곱하기-------\n",
      "[[ 1  4 12  6]\n",
      " [ 4  9  4  5]\n",
      " [32 30 36 63]]\n",
      "\n",
      "-------요소별 나누기-------\n",
      "[[1.         0.25       0.33333333 1.5       ]\n",
      " [1.         1.         4.         5.        ]\n",
      " [0.5        0.83333333 1.         0.77777778]]\n",
      "\n",
      "-------요소별 더하기-------\n",
      "[[ 2  5  8  5]\n",
      " [ 4  6  5  6]\n",
      " [12 11 12 16]]\n",
      "\n",
      "-------요소별 빼기-------\n",
      "[[ 0 -3 -4  1]\n",
      " [ 0  0  3  4]\n",
      " [-4 -1  0 -2]]\n"
     ]
    }
   ],
   "source": [
    "# 리스트 4.11_ Numpy를 사용해 요소별 곱을 계산한다.\n",
    "import numpy as np\n",
    "\n",
    "a = np.array([[1,1,2,3],\n",
    "              [2,3,4,5],\n",
    "              [4,5,6,7]])\n",
    "\n",
    "b = np.array([[1,4,6,2],\n",
    "              [2,3,1,1],\n",
    "              [8,6,6,9]])\n",
    "\n",
    "print('-------요소별 곱하기-------')\n",
    "print(a*b)\n",
    "print()\n",
    "print('-------요소별 나누기-------')\n",
    "print(a/b)\n",
    "print()\n",
    "print('-------요소별 더하기-------')\n",
    "print(a+b)\n",
    "print()\n",
    "print('-------요소별 빼기-------')\n",
    "print(a-b)"
   ]
  },
  {
   "cell_type": "markdown",
   "id": "b7167b69",
   "metadata": {},
   "source": [
    "# 4.4_전치\n",
    "전치를 통해 행과 열을 뒤바꿀 수 있다.\n",
    "배열명 뒤에 .T 를 붙이면 된다."
   ]
  },
  {
   "cell_type": "code",
   "execution_count": 7,
   "id": "27748cec",
   "metadata": {},
   "outputs": [
    {
     "name": "stdout",
     "output_type": "stream",
     "text": [
      "[[1 2 3]\n",
      " [4 5 6]]\n",
      "\n",
      "[[1 4]\n",
      " [2 5]\n",
      " [3 6]]\n",
      "\n",
      "[[1 2 3]\n",
      " [4 5 6]]\n"
     ]
    }
   ],
   "source": [
    "# 리스트 4.14_ 행렬을 전치한다.\n",
    "import numpy as np\n",
    "\n",
    "a = np.array([[1,2,3],\n",
    "             [4,5,6]]) # 2x3의 행렬\n",
    "print(a)\n",
    "print()\n",
    "print(a.T)  # 원본을 바꾸진 않는다.\n",
    "print()\n",
    "print(a)"
   ]
  },
  {
   "cell_type": "markdown",
   "id": "039b9f8b",
   "metadata": {},
   "source": [
    "## 444_전치와 행렬곱의 구현\n",
    "전치를 통해\n",
    "\n",
    "앞 행렬의 열수와 뒤 행렬의 행수를 일치시켜\n",
    "\n",
    "곱을 가능하게 할 수도 있다."
   ]
  },
  {
   "cell_type": "code",
   "execution_count": 8,
   "id": "c6ee5df0",
   "metadata": {},
   "outputs": [
    {
     "name": "stdout",
     "output_type": "stream",
     "text": [
      "[[14 32]\n",
      " [32 77]]\n"
     ]
    }
   ],
   "source": [
    "# 리스트 4.15_ 전치하고 나서 행렬곱을 실시한다.\n",
    "import numpy as np\n",
    "\n",
    "a = np.array([[1,2,3],\n",
    "             [4,5,6]]) # 2x3의 행렬\n",
    "\n",
    "b = np.array([[1,2,3],\n",
    "             [4,5,6]]) # 2x3의 행렬\n",
    "\n",
    "print(np.dot(a, b.T))"
   ]
  },
  {
   "cell_type": "markdown",
   "id": "04eeba86",
   "metadata": {},
   "source": [
    "# 4.5_ 행렬식과 역행렬"
   ]
  },
  {
   "cell_type": "markdown",
   "id": "72820e83",
   "metadata": {},
   "source": [
    "## 451_ 단위행렬\n",
    "같은 크기의 행렬에 곱해도 곱하는 대상의 행렬을 변화시키지 않는 성질이 있다.\n",
    "\n",
    "행과 열 수가 같은 정방행렬의 경우에만 가능하다.\n",
    "\n",
    "#### eye()함수"
   ]
  },
  {
   "cell_type": "code",
   "execution_count": 9,
   "id": "70443f81",
   "metadata": {},
   "outputs": [
    {
     "name": "stdout",
     "output_type": "stream",
     "text": [
      "[[1. 0.]\n",
      " [0. 1.]]\n",
      "\n",
      "[[1. 0. 0.]\n",
      " [0. 1. 0.]\n",
      " [0. 0. 1.]]\n",
      "\n",
      "[[1. 0. 0. 0.]\n",
      " [0. 1. 0. 0.]\n",
      " [0. 0. 1. 0.]\n",
      " [0. 0. 0. 1.]]\n"
     ]
    }
   ],
   "source": [
    "# 리스트 4.18 eye()함수를 사용해 단위행렬을 만든다.\n",
    "import numpy as np\n",
    "\n",
    "print(np.eye(2))  # 2x2의 단위행렬\n",
    "print()\n",
    "print(np.eye(3))  # 2x2의 단위행렬\n",
    "print()\n",
    "print(np.eye(4))  # 2x2의 단위행렬"
   ]
  },
  {
   "cell_type": "markdown",
   "id": "96694210",
   "metadata": {},
   "source": [
    "## 453_ 역행렬\n",
    "곱하면 단위 행렬이 되는 행렬"
   ]
  },
  {
   "cell_type": "markdown",
   "id": "a34c2b5e",
   "metadata": {},
   "source": [
    "## 454_ 행렬식\n",
    "역행렬이 존재하지 않는 경우가 있다.\n",
    "\n",
    "행렬식 = 0 인 경우 역행렬은 존재하지 않는다.\n",
    "\n",
    "#### linalg.det() 함수"
   ]
  },
  {
   "cell_type": "code",
   "execution_count": 10,
   "id": "4e04a08a",
   "metadata": {},
   "outputs": [
    {
     "name": "stdout",
     "output_type": "stream",
     "text": [
      "-2.0000000000000004\n",
      "0.0\n"
     ]
    }
   ],
   "source": [
    "# 리스트 4.19 linalg.det() 함수를 사용해 행렬식을 구한다.\n",
    "import numpy as np\n",
    "\n",
    "a = np.array([[1,2],\n",
    "             [3,4]]) # 2x3의 행렬\n",
    "\n",
    "print(np.linalg.det(a)) # 행렬식이 0이 되지 않는 경우\n",
    "\n",
    "b = np.array([[1,2],\n",
    "             [0,0]]) # 2x3의 행렬\n",
    "print(np.linalg.det(b)) # 행렬식이 0이 되는 경우"
   ]
  },
  {
   "cell_type": "markdown",
   "id": "001695fa",
   "metadata": {},
   "source": [
    "## 456_ 역행렬의 구현\n",
    "linalg.det() = 0 이 아닌 경우\n",
    "#### linalg.inv() 함수\n",
    "inv는 inverse의 약자\n",
    "\n",
    "##### 역행렬은 인공지능에서 변수끼리의 상관관계를 알아보는 회귀분석에 활용된다."
   ]
  },
  {
   "cell_type": "code",
   "execution_count": 11,
   "id": "dcd2682b",
   "metadata": {},
   "outputs": [
    {
     "name": "stdout",
     "output_type": "stream",
     "text": [
      "[[-2.   1. ]\n",
      " [ 1.5 -0.5]]\n"
     ]
    }
   ],
   "source": [
    "# 리스트 4.20 linalg.inv() 함수를 사용해 역행렬을 구한다.\n",
    "import numpy as np\n",
    "\n",
    "a = np.array([[1,2],\n",
    "             [3,4]]) # 2x3의 행렬\n",
    "\n",
    "print(np.linalg.inv(a)) # 행렬식이 0이 되지 않는 경우"
   ]
  },
  {
   "cell_type": "markdown",
   "id": "2ec1a2e0",
   "metadata": {},
   "source": [
    "# 4.6_ "
   ]
  },
  {
   "cell_type": "code",
   "execution_count": null,
   "id": "9bc2c91c",
   "metadata": {},
   "outputs": [],
   "source": []
  }
 ],
 "metadata": {
  "kernelspec": {
   "display_name": "Python 3",
   "language": "python",
   "name": "python3"
  },
  "language_info": {
   "codemirror_mode": {
    "name": "ipython",
    "version": 3
   },
   "file_extension": ".py",
   "mimetype": "text/x-python",
   "name": "python",
   "nbconvert_exporter": "python",
   "pygments_lexer": "ipython3",
   "version": "3.8.8"
  }
 },
 "nbformat": 4,
 "nbformat_minor": 5
}
