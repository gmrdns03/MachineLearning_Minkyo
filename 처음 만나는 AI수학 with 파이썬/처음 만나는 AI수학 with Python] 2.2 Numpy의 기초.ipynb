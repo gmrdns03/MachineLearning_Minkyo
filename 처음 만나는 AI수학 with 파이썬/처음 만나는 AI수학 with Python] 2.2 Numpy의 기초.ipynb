{
 "cells": [
  {
   "cell_type": "markdown",
   "id": "b0d8539d",
   "metadata": {},
   "source": [
    "## 223. Numpy 배열 생성하기\n",
    "인공지능 계산에는 행렬, 백터를 많이 사용한다. 이를 표현하기 위해 필요한 것이 Numpy의 배열이다.\n",
    "Numpy의 배열은 Python의 리스트로부터 array()함수를 통해 쉽게 만들 수 있다.\n",
    "\n"
   ]
  },
  {
   "cell_type": "code",
   "execution_count": 1,
   "id": "ea830e47",
   "metadata": {},
   "outputs": [
    {
     "name": "stdout",
     "output_type": "stream",
     "text": [
      "[0 1 2 3 4 5]\n",
      "<class 'numpy.ndarray'>\n"
     ]
    }
   ],
   "source": [
    "# 리스트 2.33\n",
    "import numpy as np\n",
    "\n",
    "# 파이썬 리스트로부터 Numpy 배열을 만든다.\n",
    "a = np.array([0,1,2,3,4,5])  \n",
    "print(a)\n",
    "print(type(a))"
   ]
  },
  {
   "cell_type": "code",
   "execution_count": 2,
   "id": "aab4161b",
   "metadata": {},
   "outputs": [
    {
     "name": "stdout",
     "output_type": "stream",
     "text": [
      "[[0 1 2]\n",
      " [3 4 5]]\n",
      "<class 'numpy.ndarray'>\n"
     ]
    }
   ],
   "source": [
    "# 리스트 2.34\n",
    "import numpy as np\n",
    "\n",
    "# 2중 리스트로부터 Numpy의 2차원 배열을 만든다.\n",
    "b = np.array([[0,1,2],[3,4,5]])\n",
    "print(b)\n",
    "print(type(b))"
   ]
  },
  {
   "cell_type": "code",
   "execution_count": 21,
   "id": "1b877016",
   "metadata": {},
   "outputs": [
    {
     "name": "stdout",
     "output_type": "stream",
     "text": [
      "[[[0 1 2]\n",
      "  [3 4 5]]\n",
      "\n",
      " [[5 4 3]\n",
      "  [2 1 0]]]\n",
      "<class 'numpy.ndarray'>\n"
     ]
    }
   ],
   "source": [
    "# 리스트 2.35\n",
    "import numpy as np\n",
    "\n",
    "# 3중 리스트로부터 Numpy의 3차원 배열을 만든다.\n",
    "c = np.array([[[0,1,2],\n",
    "               [3,4,5]], \n",
    "              \n",
    "              [[5,4,3],\n",
    "               [2,1,0]]])\n",
    "print(c)\n",
    "print(type(c))"
   ]
  },
  {
   "cell_type": "markdown",
   "id": "997e3731",
   "metadata": {},
   "source": [
    "## 함수를 사용하여 Numpy배열 만들기\n",
    "zeros()  -> 요소 수가 전부 0인 배열 <br>\n",
    "ones()   -> 요소 수가 전부 1인 배열 <br>\n",
    "arange()-> 0부터 인수 이전까지의 정수가 차례대로 나열된 배열"
   ]
  },
  {
   "cell_type": "code",
   "execution_count": 5,
   "id": "6eb0e465",
   "metadata": {},
   "outputs": [
    {
     "name": "stdout",
     "output_type": "stream",
     "text": [
      "[0. 0. 0. 0. 0. 0. 0. 0.]\n",
      "<class 'numpy.ndarray'>\n",
      "\n",
      "[1. 1. 1. 1. 1. 1. 1. 1.]\n",
      "<class 'numpy.ndarray'>\n",
      "\n",
      "[0 1 2 3 4 5 6 7]\n",
      "<class 'numpy.ndarray'>\n"
     ]
    }
   ],
   "source": [
    "# 리스트 2.36\n",
    "import numpy as np\n",
    "\n",
    "# 0이 8개 저장된 배열\n",
    "d = np.zeros(8)\n",
    "print(d)\n",
    "print(type(d))\n",
    "print('')\n",
    "\n",
    "# 1이 8개 저장된 배열\n",
    "e = np.ones(8)\n",
    "print(e)\n",
    "print(type(e))\n",
    "print('')\n",
    "\n",
    "# 0부터 7까지 저장된 배열\n",
    "f = np.arange(8)\n",
    "print(f)\n",
    "print(type(f))"
   ]
  },
  {
   "cell_type": "markdown",
   "id": "c3dbbecb",
   "metadata": {},
   "source": [
    "## 224. 배열의 형태\n",
    "데이터를 수집한 후 배열의 형태를 조사하는 과정은 매우 중요하다. <br>\n",
    "\n",
    "컬럼의 개수, 데이터 행의 수, 데이터 타입 정보 등을 파악해야 후의 코딩에서 방향이 잡힐 수 있다."
   ]
  },
  {
   "cell_type": "code",
   "execution_count": 8,
   "id": "0b1a01fb",
   "metadata": {},
   "outputs": [
    {
     "name": "stdout",
     "output_type": "stream",
     "text": [
      "[[0 1 2]\n",
      " [3 4 5]]\n",
      "\n",
      "(2, 3)\n"
     ]
    }
   ],
   "source": [
    "# 리스트 2.37 shape()함수로 배열의 형태 얻기\n",
    "import numpy as pd\n",
    "\n",
    "a = np.array([[0,1,2],\n",
    "              [3,4,5]])  # 2x3의 2차원 배열\n",
    "print(a)\n",
    "print('')\n",
    "print(np.shape(a))"
   ]
  },
  {
   "cell_type": "code",
   "execution_count": 9,
   "id": "ab943ed8",
   "metadata": {},
   "outputs": [
    {
     "name": "stdout",
     "output_type": "stream",
     "text": [
      "[[0 1 2]\n",
      " [3 4 5]]\n",
      "\n",
      "2\n"
     ]
    }
   ],
   "source": [
    "# 리스트 2.38_ len() 함수로 가장 바깥쪽 요소 수를 구한다.\n",
    "import numpy as pd\n",
    "\n",
    "a = np.array([[0,1,2],\n",
    "              [3,4,5]])  # 2x3의 2차원 배열\n",
    "\n",
    "print(a)\n",
    "print('')\n",
    "print(len(a))"
   ]
  },
  {
   "cell_type": "markdown",
   "id": "d8d52c76",
   "metadata": {},
   "source": [
    "## 225. 배열의 연산"
   ]
  },
  {
   "cell_type": "code",
   "execution_count": 10,
   "id": "c81a7cb2",
   "metadata": {},
   "outputs": [
    {
     "name": "stdout",
     "output_type": "stream",
     "text": [
      "[[0 1 2]\n",
      " [3 4 5]]\n",
      "\n",
      "[[3 4 5]\n",
      " [6 7 8]]\n",
      "\n",
      "[[-3 -2 -1]\n",
      " [ 0  1  2]]\n",
      "\n",
      "[[ 0  3  6]\n",
      " [ 9 12 15]]\n",
      "\n",
      "[[0.         0.33333333 0.66666667]\n",
      " [1.         1.33333333 1.66666667]]\n"
     ]
    }
   ],
   "source": [
    "# 2.39_ 배열과 수치의 사칙 연산\n",
    "import numpy as pd\n",
    "\n",
    "a = np.array([[0,1,2],\n",
    "              [3,4,5]])  # 2x3의 2차원 배열\n",
    "\n",
    "print(a)\n",
    "print()\n",
    "print(a +3)\n",
    "print()\n",
    "print(a -3)\n",
    "print()\n",
    "print(a *3)\n",
    "print()\n",
    "print(a /3)"
   ]
  },
  {
   "cell_type": "code",
   "execution_count": 12,
   "id": "917849d8",
   "metadata": {},
   "outputs": [
    {
     "name": "stdout",
     "output_type": "stream",
     "text": [
      "[[1 1 2]\n",
      " [3 4 5]]\n",
      "\n",
      "[[5 4 3]\n",
      " [2 1 8]]\n",
      "\n",
      "[[ 6  5  5]\n",
      " [ 5  5 13]]\n",
      "\n",
      "[[-4 -3 -1]\n",
      " [ 1  3 -3]]\n",
      "\n",
      "[[ 5  4  6]\n",
      " [ 6  4 40]]\n",
      "\n",
      "[[0.2        0.25       0.66666667]\n",
      " [1.5        4.         0.625     ]]\n"
     ]
    }
   ],
   "source": [
    "# 2.40_ 배열끼리의 사칙연산\n",
    "import numpy as pd\n",
    "\n",
    "a = np.array([[1,1,2],\n",
    "              [3,4,5]])  # 2x3의 2차원 배열\n",
    "\n",
    "b = np.array([[5,4,3],\n",
    "              [2,1,8]])  # 2x3의 2차원 배열\n",
    "\n",
    "print(a)\n",
    "print()\n",
    "print(b)\n",
    "print()\n",
    "print(a + b)\n",
    "print()\n",
    "print(a - b)\n",
    "print()\n",
    "print(a * b)\n",
    "print()\n",
    "print(a / b)"
   ]
  },
  {
   "cell_type": "markdown",
   "id": "5f28200b",
   "metadata": {},
   "source": [
    "## 226_ 요소로의 접근 <br>\n",
    "배열의 각 요소로의 접근은 리스트의 경우와 마찬가지로 인덱싱을 통해 가능하다.﻿"
   ]
  },
  {
   "cell_type": "code",
   "execution_count": 13,
   "id": "a191a5a5",
   "metadata": {},
   "outputs": [
    {
     "name": "stdout",
     "output_type": "stream",
     "text": [
      "4\n"
     ]
    }
   ],
   "source": [
    "# 리스트2.41 인덱스를 지정하고, 배열의 요소로 접근한다.\n",
    "import numpy as pd\n",
    "\n",
    "a = np.array([1,2,3,4,5])\n",
    "print(a[3]) # 3 인덱스를 지정"
   ]
  },
  {
   "cell_type": "code",
   "execution_count": 15,
   "id": "45091cc0",
   "metadata": {},
   "outputs": [
    {
     "name": "stdout",
     "output_type": "stream",
     "text": [
      "4\n",
      "\n",
      "9\n",
      "[1 2 3 9 5]\n"
     ]
    }
   ],
   "source": [
    "# 리스트2.42_ 인덱스를 지정해서 배열의 요소를 바꾼다.\n",
    "import numpy as pd\n",
    "\n",
    "a = np.array([1,2,3,4,5])\n",
    "print(a[3]) # 3 인덱스를 지정\n",
    "print()\n",
    "\n",
    "a[3] = 9 # 4번째 자리 요소 9로 바꾸기\n",
    "print(a[3])\n",
    "print(a)"
   ]
  },
  {
   "cell_type": "code",
   "execution_count": 18,
   "id": "3a061d59",
   "metadata": {},
   "outputs": [
    {
     "name": "stdout",
     "output_type": "stream",
     "text": [
      "5\n"
     ]
    }
   ],
   "source": [
    "# 리스트2.43_ 2차원 배열의 요소로 접근하기\n",
    "import numpy as pd\n",
    "\n",
    "a = np.array([[1,1,2],\n",
    "              [3,4,5]])  # 2x3의 2차원 배열\n",
    "\n",
    "print(a[1,2])  # a[행, 열]  -> a[1][2]와 같다."
   ]
  },
  {
   "cell_type": "code",
   "execution_count": 19,
   "id": "a0e54ee3",
   "metadata": {},
   "outputs": [
    {
     "name": "stdout",
     "output_type": "stream",
     "text": [
      "5\n",
      "9\n",
      "[[1 1 2]\n",
      " [3 4 9]]\n"
     ]
    }
   ],
   "source": [
    "# 리스트2.44_ 2차원 배열의 요소 바꾸기\n",
    "import numpy as pd\n",
    "\n",
    "a = np.array([[1,1,2],\n",
    "              [3,4,5]])  # 2x3의 2차원 배열\n",
    "\n",
    "print(a[1,2])\n",
    "a[1,2] = 9 # a의 1행 2열에 있는 요소를 9로 바꾸기\n",
    "\n",
    "print(a[1,2])\n",
    "print(a)"
   ]
  },
  {
   "cell_type": "code",
   "execution_count": 24,
   "id": "31912298",
   "metadata": {},
   "outputs": [
    {
     "name": "stdout",
     "output_type": "stream",
     "text": [
      "2\n",
      "9\n",
      "[[[0 1 2]\n",
      "  [3 4 5]]\n",
      "\n",
      " [[5 4 3]\n",
      "  [9 1 0]]]\n"
     ]
    }
   ],
   "source": [
    "# Extra_ 3차원 배열의 요소 바꾸기\n",
    "import numpy as np\n",
    "\n",
    "# 3중 리스트로부터 Numpy의 3차원 배열을 만든다.\n",
    "c = np.array([[[0,1,2],\n",
    "               [3,4,5]], \n",
    "              \n",
    "              [[5,4,3],\n",
    "               [2,1,0]]])\n",
    "\n",
    "print(c[1,1,0])\n",
    "\n",
    "c[1,1,0] = 9  # 1차원 1행 0열 요소를 9로 바꾸기\n",
    "\n",
    "print(c[1,1,0])\n",
    "print(c)"
   ]
  },
  {
   "cell_type": "code",
   "execution_count": 25,
   "id": "70769007",
   "metadata": {},
   "outputs": [
    {
     "name": "stdout",
     "output_type": "stream",
     "text": [
      "[3 4 5]\n",
      "\n",
      "[[1 9 2]\n",
      " [3 9 5]]\n"
     ]
    }
   ],
   "source": [
    "# 리스트2.45 행이나 열에 접근하기\n",
    "import numpy as pd\n",
    "\n",
    "a = np.array([[1,1,2],\n",
    "              [3,4,5]])  # 2x3의 2차원 배열\n",
    "\n",
    "print(a[1, :]) # a에서 인덱스가 1인 행을 추출하기\n",
    "print()\n",
    "\n",
    "a[:, 1] = np.array([9, 9]) # a에서 인덱스가 1인 열을 9로 바꾸기\n",
    "print(a)"
   ]
  },
  {
   "cell_type": "markdown",
   "id": "14e8fd71",
   "metadata": {},
   "source": [
    "# 함수와 배열\n",
    "\n",
    "함수의 인수나 return값으로 Numpy 배열을 사용할 수 있다."
   ]
  },
  {
   "cell_type": "code",
   "execution_count": 26,
   "id": "ffc5fa5e",
   "metadata": {},
   "outputs": [
    {
     "name": "stdout",
     "output_type": "stream",
     "text": [
      "[[ 3  3  5]\n",
      " [ 7  9 11]]\n",
      "<class 'numpy.ndarray'>\n"
     ]
    }
   ],
   "source": [
    "# 리스트2.46 함수의 인수, 반환값으로서의 배열\n",
    "import numpy as pd\n",
    "\n",
    "def my_func(x) :\n",
    "    y = x * 2 + 1\n",
    "    return y\n",
    "\n",
    "a = np.array([[1,1,2],\n",
    "              [3,4,5]])  # 2x3의 2차원 배열\n",
    "\n",
    "b = my_func(a)  # 위에서 만든 함수 안에 array 2차원 배열 넣기\n",
    "\n",
    "# 함수에 배열을 넣으면, 반환값을 배열을 받는다.\n",
    "\n",
    "print(b)\n",
    "print(type(b))"
   ]
  },
  {
   "cell_type": "code",
   "execution_count": 27,
   "id": "0b40ee20",
   "metadata": {},
   "outputs": [
    {
     "name": "stdout",
     "output_type": "stream",
     "text": [
      "합계 16\n",
      "평균 2.6666666666666665\n",
      "최댓값 5\n",
      "최솟값 1\n"
     ]
    }
   ],
   "source": [
    "# 리스트 2.47_ Numpy가 가진 여러 가지 함수\n",
    "import numpy as pd\n",
    "\n",
    "a = np.array([[1,1,2],\n",
    "              [3,4,5]])  # 2x3의 2차원 배열\n",
    "\n",
    "print('합계', np.sum(a))\n",
    "print('평균', np.average(a))\n",
    "print('최댓값', np.max(a))\n",
    "print('최솟값', np.min(a))"
   ]
  },
  {
   "cell_type": "markdown",
   "id": "38a01eb7",
   "metadata": {},
   "source": [
    "## 229. 연습\n",
    "\n",
    "Numpy의 2차원 배열을 두 개 기술하고, 서로의 합, 차, 곱을 구합시다."
   ]
  },
  {
   "cell_type": "code",
   "execution_count": 29,
   "id": "cbdfc2ec",
   "metadata": {},
   "outputs": [
    {
     "name": "stdout",
     "output_type": "stream",
     "text": [
      "[[10  5 10]\n",
      " [ 6  2  6]]\n",
      "\n",
      "[[-2 -3 -6]\n",
      " [ 0 -2  4]]\n",
      "\n",
      "[[24  4 16]\n",
      " [ 9  0  5]]\n"
     ]
    }
   ],
   "source": [
    "import numpy as pd\n",
    "\n",
    "a = np.array([[4,1,2],\n",
    "              [3,0,5]])  # 2x3의 2차원 배열\n",
    "\n",
    "b = np.array([[6,4,8],\n",
    "              [3,2,1]])  # 2x3의 2차원 배열\n",
    "\n",
    "print(a+b)\n",
    "print()\n",
    "print(a-b)\n",
    "print()\n",
    "print(a*b)"
   ]
  },
  {
   "cell_type": "code",
   "execution_count": null,
   "id": "751ffe6f",
   "metadata": {},
   "outputs": [],
   "source": []
  }
 ],
 "metadata": {
  "kernelspec": {
   "display_name": "Python 3",
   "language": "python",
   "name": "python3"
  },
  "language_info": {
   "codemirror_mode": {
    "name": "ipython",
    "version": 3
   },
   "file_extension": ".py",
   "mimetype": "text/x-python",
   "name": "python",
   "nbconvert_exporter": "python",
   "pygments_lexer": "ipython3",
   "version": "3.8.8"
  }
 },
 "nbformat": 4,
 "nbformat_minor": 5
}
