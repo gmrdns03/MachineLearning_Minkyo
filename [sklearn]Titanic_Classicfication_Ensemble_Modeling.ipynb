{
  "nbformat": 4,
  "nbformat_minor": 0,
  "metadata": {
    "colab": {
      "name": "[sklearn]Titanic Classicfication - Ensemble Modeling.ipynb",
      "provenance": [],
      "collapsed_sections": [],
      "mount_file_id": "1m1mv4iuAvq5Rcxe5BrLis5hranoOcAqF",
      "authorship_tag": "ABX9TyPOJEUN50w3cCruk7iJADYP",
      "include_colab_link": true
    },
    "kernelspec": {
      "name": "python3",
      "display_name": "Python 3"
    },
    "language_info": {
      "name": "python"
    }
  },
  "cells": [
    {
      "cell_type": "markdown",
      "metadata": {
        "id": "view-in-github",
        "colab_type": "text"
      },
      "source": [
        "<a href=\"https://colab.research.google.com/github/gmrdns03/MachineLearning_Minkyo/blob/main/%5Bsklearn%5DTitanic_Classicfication_Ensemble_Modeling.ipynb\" target=\"_parent\"><img src=\"https://colab.research.google.com/assets/colab-badge.svg\" alt=\"Open In Colab\"/></a>"
      ]
    },
    {
      "cell_type": "markdown",
      "metadata": {
        "id": "k8N761kxqRDc"
      },
      "source": [
        "# 문제정의:\n",
        "타이타닉 생존자 예측 데이터셋 사용하여 유무를 예측하는 이진분류 문제로 정의 <br>\n",
        "사망: 0, 생존: 1"
      ]
    },
    {
      "cell_type": "markdown",
      "metadata": {
        "id": "MAy-zPDlqmYj"
      },
      "source": [
        "## 기본 라이브러리 임포트"
      ]
    },
    {
      "cell_type": "code",
      "metadata": {
        "id": "bYLTxOCBpxGf"
      },
      "source": [
        "# Libraries for reading and handling the data\n",
        "import numpy as np\n",
        "import pandas as pd\n",
        "import re  # 정규식 쓰는 라이브러리\n",
        "\n",
        "# Libraries for data visualization\n",
        "import matplotlib.pyplot as plt\n",
        "import seaborn as sns\n",
        "\n",
        "# Libraries for data preprocessing\n",
        "from sklearn.model_selection import train_test_split\n",
        "from sklearn.preprocessing import StandardScaler, OrdinalEncoder, OneHotEncoder\n",
        "from sklearn.base import BaseEstimator, TransformerMixin\n",
        "\n",
        "# Libraries for creating ML model\n",
        "from sklearn.linear_model import LogisticRegression\n",
        "from sklearn.tree import DecisionTreeClassifier\n",
        "from sklearn.ensemble import RandomForestClassifier\n",
        "from sklearn.ensemble import GradientBoostingClassifier\n",
        "\n",
        "# Library for Analysing the ML model\n",
        "from sklearn import metrics"
      ],
      "execution_count": 1,
      "outputs": []
    },
    {
      "cell_type": "markdown",
      "metadata": {
        "id": "PoCffOxVsBlw"
      },
      "source": [
        "## 데이터 준비하기"
      ]
    },
    {
      "cell_type": "code",
      "metadata": {
        "id": "qdLf-rLSrIXk"
      },
      "source": [
        "train_path = 'train.csv'\n",
        "target = 'Survived'\n",
        "index = 'PassengerId'\n",
        "\n",
        "# 가지고 올 때 원하는 타입으로 세팅해서 불러올 수도 있다.\n",
        "dtypes = ({\n",
        "    'Survived': bool, \n",
        "    'Pclass':   'category', \n",
        "    'Name':     'category',\n",
        "    'Sex':      'category',\n",
        "    'Age':      float,\n",
        "    'SibSp':    int,\n",
        "    'Parch':    int,\n",
        "    'Ticket':  'category',\n",
        "    'Fare':     float,\n",
        "    'Cabin':   'category',\n",
        "    'Embarked':'category'\n",
        "})\n",
        "\n",
        "titanic = pd.read_csv(train_path, index_col=index, dtype=dtypes)"
      ],
      "execution_count": 2,
      "outputs": []
    },
    {
      "cell_type": "code",
      "metadata": {
        "colab": {
          "base_uri": "https://localhost:8080/",
          "height": 522
        },
        "id": "YJsiO3Chs8JV",
        "outputId": "e4d6014a-f310-4986-8b09-e279aefe6ea4"
      },
      "source": [
        "titanic.head()"
      ],
      "execution_count": 3,
      "outputs": [
        {
          "output_type": "execute_result",
          "data": {
            "text/html": [
              "<div>\n",
              "<style scoped>\n",
              "    .dataframe tbody tr th:only-of-type {\n",
              "        vertical-align: middle;\n",
              "    }\n",
              "\n",
              "    .dataframe tbody tr th {\n",
              "        vertical-align: top;\n",
              "    }\n",
              "\n",
              "    .dataframe thead th {\n",
              "        text-align: right;\n",
              "    }\n",
              "</style>\n",
              "<table border=\"1\" class=\"dataframe\">\n",
              "  <thead>\n",
              "    <tr style=\"text-align: right;\">\n",
              "      <th></th>\n",
              "      <th>Survived</th>\n",
              "      <th>Pclass</th>\n",
              "      <th>Name</th>\n",
              "      <th>Sex</th>\n",
              "      <th>Age</th>\n",
              "      <th>SibSp</th>\n",
              "      <th>Parch</th>\n",
              "      <th>Ticket</th>\n",
              "      <th>Fare</th>\n",
              "      <th>Cabin</th>\n",
              "      <th>Embarked</th>\n",
              "    </tr>\n",
              "    <tr>\n",
              "      <th>PassengerId</th>\n",
              "      <th></th>\n",
              "      <th></th>\n",
              "      <th></th>\n",
              "      <th></th>\n",
              "      <th></th>\n",
              "      <th></th>\n",
              "      <th></th>\n",
              "      <th></th>\n",
              "      <th></th>\n",
              "      <th></th>\n",
              "      <th></th>\n",
              "    </tr>\n",
              "  </thead>\n",
              "  <tbody>\n",
              "    <tr>\n",
              "      <th>1</th>\n",
              "      <td>False</td>\n",
              "      <td>3</td>\n",
              "      <td>Braund, Mr. Owen Harris</td>\n",
              "      <td>male</td>\n",
              "      <td>22.0</td>\n",
              "      <td>1</td>\n",
              "      <td>0</td>\n",
              "      <td>A/5 21171</td>\n",
              "      <td>7.2500</td>\n",
              "      <td>NaN</td>\n",
              "      <td>S</td>\n",
              "    </tr>\n",
              "    <tr>\n",
              "      <th>2</th>\n",
              "      <td>True</td>\n",
              "      <td>1</td>\n",
              "      <td>Cumings, Mrs. John Bradley (Florence Briggs Th...</td>\n",
              "      <td>female</td>\n",
              "      <td>38.0</td>\n",
              "      <td>1</td>\n",
              "      <td>0</td>\n",
              "      <td>PC 17599</td>\n",
              "      <td>71.2833</td>\n",
              "      <td>C85</td>\n",
              "      <td>C</td>\n",
              "    </tr>\n",
              "    <tr>\n",
              "      <th>3</th>\n",
              "      <td>True</td>\n",
              "      <td>3</td>\n",
              "      <td>Heikkinen, Miss. Laina</td>\n",
              "      <td>female</td>\n",
              "      <td>26.0</td>\n",
              "      <td>0</td>\n",
              "      <td>0</td>\n",
              "      <td>STON/O2. 3101282</td>\n",
              "      <td>7.9250</td>\n",
              "      <td>NaN</td>\n",
              "      <td>S</td>\n",
              "    </tr>\n",
              "    <tr>\n",
              "      <th>4</th>\n",
              "      <td>True</td>\n",
              "      <td>1</td>\n",
              "      <td>Futrelle, Mrs. Jacques Heath (Lily May Peel)</td>\n",
              "      <td>female</td>\n",
              "      <td>35.0</td>\n",
              "      <td>1</td>\n",
              "      <td>0</td>\n",
              "      <td>113803</td>\n",
              "      <td>53.1000</td>\n",
              "      <td>C123</td>\n",
              "      <td>S</td>\n",
              "    </tr>\n",
              "    <tr>\n",
              "      <th>5</th>\n",
              "      <td>False</td>\n",
              "      <td>3</td>\n",
              "      <td>Allen, Mr. William Henry</td>\n",
              "      <td>male</td>\n",
              "      <td>35.0</td>\n",
              "      <td>0</td>\n",
              "      <td>0</td>\n",
              "      <td>373450</td>\n",
              "      <td>8.0500</td>\n",
              "      <td>NaN</td>\n",
              "      <td>S</td>\n",
              "    </tr>\n",
              "  </tbody>\n",
              "</table>\n",
              "</div>"
            ],
            "text/plain": [
              "             Survived Pclass  ... Cabin Embarked\n",
              "PassengerId                   ...               \n",
              "1               False      3  ...   NaN        S\n",
              "2                True      1  ...   C85        C\n",
              "3                True      3  ...   NaN        S\n",
              "4                True      1  ...  C123        S\n",
              "5               False      3  ...   NaN        S\n",
              "\n",
              "[5 rows x 11 columns]"
            ]
          },
          "metadata": {
            "tags": []
          },
          "execution_count": 3
        }
      ]
    },
    {
      "cell_type": "code",
      "metadata": {
        "colab": {
          "base_uri": "https://localhost:8080/"
        },
        "id": "EhFb5u0_tAEd",
        "outputId": "a0052e4d-5f3a-4763-c9a2-663b46e6c88e"
      },
      "source": [
        "titanic.info()"
      ],
      "execution_count": 4,
      "outputs": [
        {
          "output_type": "stream",
          "text": [
            "<class 'pandas.core.frame.DataFrame'>\n",
            "Int64Index: 891 entries, 1 to 891\n",
            "Data columns (total 11 columns):\n",
            " #   Column    Non-Null Count  Dtype   \n",
            "---  ------    --------------  -----   \n",
            " 0   Survived  891 non-null    bool    \n",
            " 1   Pclass    891 non-null    category\n",
            " 2   Name      891 non-null    category\n",
            " 3   Sex       891 non-null    category\n",
            " 4   Age       714 non-null    float64 \n",
            " 5   SibSp     891 non-null    int64   \n",
            " 6   Parch     891 non-null    int64   \n",
            " 7   Ticket    891 non-null    category\n",
            " 8   Fare      891 non-null    float64 \n",
            " 9   Cabin     204 non-null    category\n",
            " 10  Embarked  889 non-null    category\n",
            "dtypes: bool(1), category(6), float64(2), int64(2)\n",
            "memory usage: 122.2 KB\n"
          ],
          "name": "stdout"
        }
      ]
    },
    {
      "cell_type": "markdown",
      "metadata": {
        "id": "Z3jwCyXAtOct"
      },
      "source": [
        "## 데이터 시각화"
      ]
    },
    {
      "cell_type": "code",
      "metadata": {
        "colab": {
          "base_uri": "https://localhost:8080/"
        },
        "id": "MKR1s5CqtInr",
        "outputId": "473959c2-680d-425e-dbd1-527ee5334fec"
      },
      "source": [
        "titanic[\"Survived\"].value_counts()"
      ],
      "execution_count": 5,
      "outputs": [
        {
          "output_type": "execute_result",
          "data": {
            "text/plain": [
              "False    549\n",
              "True     342\n",
              "Name: Survived, dtype: int64"
            ]
          },
          "metadata": {
            "tags": []
          },
          "execution_count": 5
        }
      ]
    },
    {
      "cell_type": "markdown",
      "metadata": {
        "id": "gVxTD8E_tevI"
      },
      "source": [
        "사망이나 생존에 대해서는 어떤 특징을 가지고 있어야 하는 지 먼저 분석해보기"
      ]
    },
    {
      "cell_type": "code",
      "metadata": {
        "colab": {
          "base_uri": "https://localhost:8080/",
          "height": 378
        },
        "id": "AJzjVXOUtVt7",
        "outputId": "8ddb28b8-06f5-4c05-ba18-3ca6eddbdd82"
      },
      "source": [
        "attributes = ['Survived', 'Sex', 'Pclass', 'Embarked', 'SibSp', 'Parch']\n",
        "\n",
        "plt.figure(figsize=(14, 12), dpi=200)\n",
        "\n",
        "# 이진 분류일때만 가능하기는 하다.\n",
        "for i, feature in enumerate(attributes):\n",
        "  plt.subplot(3,3,i+1)\n",
        "  sns.countplot(data=titanic, x=feature, hue='Survived')\n",
        "\n",
        "sns.despine()"
      ],
      "execution_count": 6,
      "outputs": [
        {
          "output_type": "display_data",
          "data": {
            "image/png": "[encoded data removed]",
            "text/plain": [
              "<Figure size 2800x2400 with 6 Axes>"
            ]
          },
          "metadata": {
            "tags": [],
            "needs_background": "light"
          }
        }
      ]
    },
    {
      "cell_type": "markdown",
      "metadata": {
        "id": "lk5Wcc66vGV0"
      },
      "source": [
        "## 데이터 전처리\n"
      ]
    },
    {
      "cell_type": "code",
      "metadata": {
        "colab": {
          "base_uri": "https://localhost:8080/"
        },
        "id": "1txM3UiCuRUD",
        "outputId": "33947641-5872-446d-e859-87da2d364d33"
      },
      "source": [
        "titanic['Name'].iloc[0:5]"
      ],
      "execution_count": 7,
      "outputs": [
        {
          "output_type": "execute_result",
          "data": {
            "text/plain": [
              "PassengerId\n",
              "1                              Braund, Mr. Owen Harris\n",
              "2    Cumings, Mrs. John Bradley (Florence Briggs Th...\n",
              "3                               Heikkinen, Miss. Laina\n",
              "4         Futrelle, Mrs. Jacques Heath (Lily May Peel)\n",
              "5                             Allen, Mr. William Henry\n",
              "Name: Name, dtype: category\n",
              "Categories (891, object): ['Abbing, Mr. Anthony', 'Abbott, Mr. Rossmore Edward',\n",
              "                           'Abbott, Mrs. Stanton (Rosa Hunt)', 'Abelson, Mr. Samuel', ..., 'de Pelsmaeker, Mr. Alfons',\n",
              "                           'del Carlo, Mr. Sebastiano', 'van Billiard, Mr. Austin Blyler',\n",
              "                           'van Melkebeke, Mr. Philemon']"
            ]
          },
          "metadata": {
            "tags": []
          },
          "execution_count": 7
        }
      ]
    },
    {
      "cell_type": "code",
      "metadata": {
        "id": "DJVGYvhcvg_D"
      },
      "source": [
        "def get_title(name):\n",
        "  return re.split(',|\\.', name)[1].strip()  # 정규식을 통해 가운데 있는 정보 추출"
      ],
      "execution_count": 8,
      "outputs": []
    },
    {
      "cell_type": "code",
      "metadata": {
        "id": "QrdAmh5Uv_5D"
      },
      "source": [
        "# 이름에서 호칭(appellation) 추출\n",
        "titanic['title'] = titanic['Name'].apply(get_title)"
      ],
      "execution_count": 9,
      "outputs": []
    },
    {
      "cell_type": "code",
      "metadata": {
        "colab": {
          "base_uri": "https://localhost:8080/",
          "height": 522
        },
        "id": "UOYlUUo6wKaC",
        "outputId": "7282890c-bccb-46c5-e0c7-681330c3eaf2"
      },
      "source": [
        "titanic.head()"
      ],
      "execution_count": 10,
      "outputs": [
        {
          "output_type": "execute_result",
          "data": {
            "text/html": [
              "<div>\n",
              "<style scoped>\n",
              "    .dataframe tbody tr th:only-of-type {\n",
              "        vertical-align: middle;\n",
              "    }\n",
              "\n",
              "    .dataframe tbody tr th {\n",
              "        vertical-align: top;\n",
              "    }\n",
              "\n",
              "    .dataframe thead th {\n",
              "        text-align: right;\n",
              "    }\n",
              "</style>\n",
              "<table border=\"1\" class=\"dataframe\">\n",
              "  <thead>\n",
              "    <tr style=\"text-align: right;\">\n",
              "      <th></th>\n",
              "      <th>Survived</th>\n",
              "      <th>Pclass</th>\n",
              "      <th>Name</th>\n",
              "      <th>Sex</th>\n",
              "      <th>Age</th>\n",
              "      <th>SibSp</th>\n",
              "      <th>Parch</th>\n",
              "      <th>Ticket</th>\n",
              "      <th>Fare</th>\n",
              "      <th>Cabin</th>\n",
              "      <th>Embarked</th>\n",
              "      <th>title</th>\n",
              "    </tr>\n",
              "    <tr>\n",
              "      <th>PassengerId</th>\n",
              "      <th></th>\n",
              "      <th></th>\n",
              "      <th></th>\n",
              "      <th></th>\n",
              "      <th></th>\n",
              "      <th></th>\n",
              "      <th></th>\n",
              "      <th></th>\n",
              "      <th></th>\n",
              "      <th></th>\n",
              "      <th></th>\n",
              "      <th></th>\n",
              "    </tr>\n",
              "  </thead>\n",
              "  <tbody>\n",
              "    <tr>\n",
              "      <th>1</th>\n",
              "      <td>False</td>\n",
              "      <td>3</td>\n",
              "      <td>Braund, Mr. Owen Harris</td>\n",
              "      <td>male</td>\n",
              "      <td>22.0</td>\n",
              "      <td>1</td>\n",
              "      <td>0</td>\n",
              "      <td>A/5 21171</td>\n",
              "      <td>7.2500</td>\n",
              "      <td>NaN</td>\n",
              "      <td>S</td>\n",
              "      <td>Mr</td>\n",
              "    </tr>\n",
              "    <tr>\n",
              "      <th>2</th>\n",
              "      <td>True</td>\n",
              "      <td>1</td>\n",
              "      <td>Cumings, Mrs. John Bradley (Florence Briggs Th...</td>\n",
              "      <td>female</td>\n",
              "      <td>38.0</td>\n",
              "      <td>1</td>\n",
              "      <td>0</td>\n",
              "      <td>PC 17599</td>\n",
              "      <td>71.2833</td>\n",
              "      <td>C85</td>\n",
              "      <td>C</td>\n",
              "      <td>Mrs</td>\n",
              "    </tr>\n",
              "    <tr>\n",
              "      <th>3</th>\n",
              "      <td>True</td>\n",
              "      <td>3</td>\n",
              "      <td>Heikkinen, Miss. Laina</td>\n",
              "      <td>female</td>\n",
              "      <td>26.0</td>\n",
              "      <td>0</td>\n",
              "      <td>0</td>\n",
              "      <td>STON/O2. 3101282</td>\n",
              "      <td>7.9250</td>\n",
              "      <td>NaN</td>\n",
              "      <td>S</td>\n",
              "      <td>Miss</td>\n",
              "    </tr>\n",
              "    <tr>\n",
              "      <th>4</th>\n",
              "      <td>True</td>\n",
              "      <td>1</td>\n",
              "      <td>Futrelle, Mrs. Jacques Heath (Lily May Peel)</td>\n",
              "      <td>female</td>\n",
              "      <td>35.0</td>\n",
              "      <td>1</td>\n",
              "      <td>0</td>\n",
              "      <td>113803</td>\n",
              "      <td>53.1000</td>\n",
              "      <td>C123</td>\n",
              "      <td>S</td>\n",
              "      <td>Mrs</td>\n",
              "    </tr>\n",
              "    <tr>\n",
              "      <th>5</th>\n",
              "      <td>False</td>\n",
              "      <td>3</td>\n",
              "      <td>Allen, Mr. William Henry</td>\n",
              "      <td>male</td>\n",
              "      <td>35.0</td>\n",
              "      <td>0</td>\n",
              "      <td>0</td>\n",
              "      <td>373450</td>\n",
              "      <td>8.0500</td>\n",
              "      <td>NaN</td>\n",
              "      <td>S</td>\n",
              "      <td>Mr</td>\n",
              "    </tr>\n",
              "  </tbody>\n",
              "</table>\n",
              "</div>"
            ],
            "text/plain": [
              "             Survived Pclass  ... Embarked title\n",
              "PassengerId                   ...               \n",
              "1               False      3  ...        S    Mr\n",
              "2                True      1  ...        C   Mrs\n",
              "3                True      3  ...        S  Miss\n",
              "4                True      1  ...        S   Mrs\n",
              "5               False      3  ...        S    Mr\n",
              "\n",
              "[5 rows x 12 columns]"
            ]
          },
          "metadata": {
            "tags": []
          },
          "execution_count": 10
        }
      ]
    },
    {
      "cell_type": "code",
      "metadata": {
        "id": "HbJNruEfwYFd"
      },
      "source": [
        "# 호칭이 생존에 과연 어떤 ㅎ영향을 끼치는 지 확인하기 위해서 집계함수 -> 카운트 평균\n",
        "titles = titanic.groupby('title').agg({'Survived' : ['count', 'mean']})"
      ],
      "execution_count": 11,
      "outputs": []
    },
    {
      "cell_type": "code",
      "metadata": {
        "id": "DLz0PphAxQwv"
      },
      "source": [
        "# Survived 컬럼 레이어 정리\n",
        "titles.columns = titles.columns.droplevel()"
      ],
      "execution_count": 12,
      "outputs": []
    },
    {
      "cell_type": "code",
      "metadata": {
        "colab": {
          "base_uri": "https://localhost:8080/",
          "height": 603
        },
        "id": "MQbzMkxlxSct",
        "outputId": "ee077ccc-91ed-42d9-d43a-7790adc0913b"
      },
      "source": [
        "# 생존 평균이 높은 순으로 정렬\n",
        "titles.sort_values('mean', ascending=False)"
      ],
      "execution_count": 13,
      "outputs": [
        {
          "output_type": "execute_result",
          "data": {
            "text/html": [
              "<div>\n",
              "<style scoped>\n",
              "    .dataframe tbody tr th:only-of-type {\n",
              "        vertical-align: middle;\n",
              "    }\n",
              "\n",
              "    .dataframe tbody tr th {\n",
              "        vertical-align: top;\n",
              "    }\n",
              "\n",
              "    .dataframe thead th {\n",
              "        text-align: right;\n",
              "    }\n",
              "</style>\n",
              "<table border=\"1\" class=\"dataframe\">\n",
              "  <thead>\n",
              "    <tr style=\"text-align: right;\">\n",
              "      <th></th>\n",
              "      <th>count</th>\n",
              "      <th>mean</th>\n",
              "    </tr>\n",
              "    <tr>\n",
              "      <th>title</th>\n",
              "      <th></th>\n",
              "      <th></th>\n",
              "    </tr>\n",
              "  </thead>\n",
              "  <tbody>\n",
              "    <tr>\n",
              "      <th>the Countess</th>\n",
              "      <td>1</td>\n",
              "      <td>1.000000</td>\n",
              "    </tr>\n",
              "    <tr>\n",
              "      <th>Mlle</th>\n",
              "      <td>2</td>\n",
              "      <td>1.000000</td>\n",
              "    </tr>\n",
              "    <tr>\n",
              "      <th>Sir</th>\n",
              "      <td>1</td>\n",
              "      <td>1.000000</td>\n",
              "    </tr>\n",
              "    <tr>\n",
              "      <th>Ms</th>\n",
              "      <td>1</td>\n",
              "      <td>1.000000</td>\n",
              "    </tr>\n",
              "    <tr>\n",
              "      <th>Lady</th>\n",
              "      <td>1</td>\n",
              "      <td>1.000000</td>\n",
              "    </tr>\n",
              "    <tr>\n",
              "      <th>Mme</th>\n",
              "      <td>1</td>\n",
              "      <td>1.000000</td>\n",
              "    </tr>\n",
              "    <tr>\n",
              "      <th>Mrs</th>\n",
              "      <td>125</td>\n",
              "      <td>0.792000</td>\n",
              "    </tr>\n",
              "    <tr>\n",
              "      <th>Miss</th>\n",
              "      <td>182</td>\n",
              "      <td>0.697802</td>\n",
              "    </tr>\n",
              "    <tr>\n",
              "      <th>Master</th>\n",
              "      <td>40</td>\n",
              "      <td>0.575000</td>\n",
              "    </tr>\n",
              "    <tr>\n",
              "      <th>Col</th>\n",
              "      <td>2</td>\n",
              "      <td>0.500000</td>\n",
              "    </tr>\n",
              "    <tr>\n",
              "      <th>Major</th>\n",
              "      <td>2</td>\n",
              "      <td>0.500000</td>\n",
              "    </tr>\n",
              "    <tr>\n",
              "      <th>Dr</th>\n",
              "      <td>7</td>\n",
              "      <td>0.428571</td>\n",
              "    </tr>\n",
              "    <tr>\n",
              "      <th>Mr</th>\n",
              "      <td>517</td>\n",
              "      <td>0.156673</td>\n",
              "    </tr>\n",
              "    <tr>\n",
              "      <th>Jonkheer</th>\n",
              "      <td>1</td>\n",
              "      <td>0.000000</td>\n",
              "    </tr>\n",
              "    <tr>\n",
              "      <th>Rev</th>\n",
              "      <td>6</td>\n",
              "      <td>0.000000</td>\n",
              "    </tr>\n",
              "    <tr>\n",
              "      <th>Don</th>\n",
              "      <td>1</td>\n",
              "      <td>0.000000</td>\n",
              "    </tr>\n",
              "    <tr>\n",
              "      <th>Capt</th>\n",
              "      <td>1</td>\n",
              "      <td>0.000000</td>\n",
              "    </tr>\n",
              "  </tbody>\n",
              "</table>\n",
              "</div>"
            ],
            "text/plain": [
              "              count      mean\n",
              "title                        \n",
              "the Countess      1  1.000000\n",
              "Mlle              2  1.000000\n",
              "Sir               1  1.000000\n",
              "Ms                1  1.000000\n",
              "Lady              1  1.000000\n",
              "Mme               1  1.000000\n",
              "Mrs             125  0.792000\n",
              "Miss            182  0.697802\n",
              "Master           40  0.575000\n",
              "Col               2  0.500000\n",
              "Major             2  0.500000\n",
              "Dr                7  0.428571\n",
              "Mr              517  0.156673\n",
              "Jonkheer          1  0.000000\n",
              "Rev               6  0.000000\n",
              "Don               1  0.000000\n",
              "Capt              1  0.000000"
            ]
          },
          "metadata": {
            "tags": []
          },
          "execution_count": 13
        }
      ]
    },
    {
      "cell_type": "code",
      "metadata": {
        "id": "HOZhln9lyNRy"
      },
      "source": [
        "# 호칭 추출이 되지 않은 title 값을 Other로 처리\n",
        "uncommon_titles = (['Don', 'Rev', 'Dr', 'Mme', 'Ms', 'Major', \n",
        "                    'Lady', 'Sir', 'Mlle', 'Col', 'Capt', \n",
        "                    'the Countess', 'Jonkheer'])\n",
        "\n",
        "titanic['title'] = titanic['title'].replace(uncommon_titles, 'other')"
      ],
      "execution_count": 14,
      "outputs": []
    },
    {
      "cell_type": "code",
      "metadata": {
        "colab": {
          "base_uri": "https://localhost:8080/",
          "height": 550
        },
        "id": "zTcKtaWvzQ-a",
        "outputId": "c67ee570-fea8-4179-cc5d-103cde17acd1"
      },
      "source": [
        "sns.catplot(x='title', kind='count', hue='Survived', \n",
        "            data=titanic, height=7)\n",
        "plt.tick_params(labelsize=12)\n",
        "plt.ylabel('Count', fontsize=14)\n",
        "plt.xlabel('title', fontsize=14)\n",
        "plt.title('Survival by title')\n",
        "plt.show()"
      ],
      "execution_count": 15,
      "outputs": [
        {
          "output_type": "display_data",
          "data": {
            "image/png": "[encoded data removed]",
            "text/plain": [
              "<Figure size 565.25x504 with 1 Axes>"
            ]
          },
          "metadata": {
            "tags": [],
            "needs_background": "light"
          }
        }
      ]
    },
    {
      "cell_type": "code",
      "metadata": {
        "id": "8JiVdToXz8L6"
      },
      "source": [
        "# 가족 사이즈(fam_size) \n",
        "# <- SibSp(동승한 자매 or 배우자) + Parch(동승한 부모 or 자식수) 두 개의 특성을 합쳐서 부각시킨다.\n",
        "\n",
        "titanic['fam_size'] = titanic['SibSp'] + titanic['Parch']"
      ],
      "execution_count": 16,
      "outputs": []
    },
    {
      "cell_type": "code",
      "metadata": {
        "colab": {
          "base_uri": "https://localhost:8080/",
          "height": 550
        },
        "id": "HfP-EvxU1fOH",
        "outputId": "cdaf801f-3027-4174-cc42-2f561889a795"
      },
      "source": [
        "sns.catplot(x='fam_size', kind='count', hue='Survived', \n",
        "            data=titanic, height=7)\n",
        "plt.tick_params(labelsize=12)\n",
        "plt.ylabel('Count', fontsize=14)\n",
        "plt.xlabel('fam_size', fontsize=14)\n",
        "plt.title('Survival by title')\n",
        "plt.show()"
      ],
      "execution_count": 17,
      "outputs": [
        {
          "output_type": "display_data",
          "data": {
            "image/png": "[encoded data removed]",
            "text/plain": [
              "<Figure size 565.25x504 with 1 Axes>"
            ]
          },
          "metadata": {
            "tags": [],
            "needs_background": "light"
          }
        }
      ]
    },
    {
      "cell_type": "markdown",
      "metadata": {
        "id": "8fhIzh5n2ZW_"
      },
      "source": [
        "## 머신러닝(ML)을 위한 전처리"
      ]
    },
    {
      "cell_type": "code",
      "metadata": {
        "id": "gO_iY8BC1jo6"
      },
      "source": [
        "# 텍스트 데이터 삭제\n",
        "titanic = titanic.drop(['Name','Ticket','Cabin', 'Embarked','title'], axis=1)"
      ],
      "execution_count": 18,
      "outputs": []
    },
    {
      "cell_type": "code",
      "metadata": {
        "colab": {
          "base_uri": "https://localhost:8080/",
          "height": 234
        },
        "id": "qXObSqS52_Yu",
        "outputId": "c866fbae-7291-4a2d-d296-52ff0ceef04a"
      },
      "source": [
        "titanic.head()"
      ],
      "execution_count": 19,
      "outputs": [
        {
          "output_type": "execute_result",
          "data": {
            "text/html": [
              "<div>\n",
              "<style scoped>\n",
              "    .dataframe tbody tr th:only-of-type {\n",
              "        vertical-align: middle;\n",
              "    }\n",
              "\n",
              "    .dataframe tbody tr th {\n",
              "        vertical-align: top;\n",
              "    }\n",
              "\n",
              "    .dataframe thead th {\n",
              "        text-align: right;\n",
              "    }\n",
              "</style>\n",
              "<table border=\"1\" class=\"dataframe\">\n",
              "  <thead>\n",
              "    <tr style=\"text-align: right;\">\n",
              "      <th></th>\n",
              "      <th>Survived</th>\n",
              "      <th>Pclass</th>\n",
              "      <th>Sex</th>\n",
              "      <th>Age</th>\n",
              "      <th>SibSp</th>\n",
              "      <th>Parch</th>\n",
              "      <th>Fare</th>\n",
              "      <th>fam_size</th>\n",
              "    </tr>\n",
              "    <tr>\n",
              "      <th>PassengerId</th>\n",
              "      <th></th>\n",
              "      <th></th>\n",
              "      <th></th>\n",
              "      <th></th>\n",
              "      <th></th>\n",
              "      <th></th>\n",
              "      <th></th>\n",
              "      <th></th>\n",
              "    </tr>\n",
              "  </thead>\n",
              "  <tbody>\n",
              "    <tr>\n",
              "      <th>1</th>\n",
              "      <td>False</td>\n",
              "      <td>3</td>\n",
              "      <td>male</td>\n",
              "      <td>22.0</td>\n",
              "      <td>1</td>\n",
              "      <td>0</td>\n",
              "      <td>7.2500</td>\n",
              "      <td>1</td>\n",
              "    </tr>\n",
              "    <tr>\n",
              "      <th>2</th>\n",
              "      <td>True</td>\n",
              "      <td>1</td>\n",
              "      <td>female</td>\n",
              "      <td>38.0</td>\n",
              "      <td>1</td>\n",
              "      <td>0</td>\n",
              "      <td>71.2833</td>\n",
              "      <td>1</td>\n",
              "    </tr>\n",
              "    <tr>\n",
              "      <th>3</th>\n",
              "      <td>True</td>\n",
              "      <td>3</td>\n",
              "      <td>female</td>\n",
              "      <td>26.0</td>\n",
              "      <td>0</td>\n",
              "      <td>0</td>\n",
              "      <td>7.9250</td>\n",
              "      <td>0</td>\n",
              "    </tr>\n",
              "    <tr>\n",
              "      <th>4</th>\n",
              "      <td>True</td>\n",
              "      <td>1</td>\n",
              "      <td>female</td>\n",
              "      <td>35.0</td>\n",
              "      <td>1</td>\n",
              "      <td>0</td>\n",
              "      <td>53.1000</td>\n",
              "      <td>1</td>\n",
              "    </tr>\n",
              "    <tr>\n",
              "      <th>5</th>\n",
              "      <td>False</td>\n",
              "      <td>3</td>\n",
              "      <td>male</td>\n",
              "      <td>35.0</td>\n",
              "      <td>0</td>\n",
              "      <td>0</td>\n",
              "      <td>8.0500</td>\n",
              "      <td>0</td>\n",
              "    </tr>\n",
              "  </tbody>\n",
              "</table>\n",
              "</div>"
            ],
            "text/plain": [
              "             Survived Pclass     Sex   Age  SibSp  Parch     Fare  fam_size\n",
              "PassengerId                                                                \n",
              "1               False      3    male  22.0      1      0   7.2500         1\n",
              "2                True      1  female  38.0      1      0  71.2833         1\n",
              "3                True      3  female  26.0      0      0   7.9250         0\n",
              "4                True      1  female  35.0      1      0  53.1000         1\n",
              "5               False      3    male  35.0      0      0   8.0500         0"
            ]
          },
          "metadata": {
            "tags": []
          },
          "execution_count": 19
        }
      ]
    },
    {
      "cell_type": "code",
      "metadata": {
        "id": "tiWgE5SQ3Bdr"
      },
      "source": [
        "# 여성을 1로 남성을 0으로 코딩\n",
        "tmp = []\n",
        "for each in titanic['Sex'] :\n",
        "  if each == 'female':\n",
        "    tmp.append(1)\n",
        "  elif each == 'male' :\n",
        "    tmp.append(0)\n",
        "  else:\n",
        "    tmp.append(np.nan)  # 빈공간에는 무조건 np.nan으로 채워줄 것\n",
        "\n",
        "titanic['Sex'] = tmp  # 위험하니까 일단 주석처리"
      ],
      "execution_count": 20,
      "outputs": []
    },
    {
      "cell_type": "code",
      "metadata": {
        "colab": {
          "base_uri": "https://localhost:8080/",
          "height": 234
        },
        "id": "5mmyDj_g4BLU",
        "outputId": "0f3112b7-e6e6-411c-e2a7-394d6f50c6d1"
      },
      "source": [
        "titanic.head()"
      ],
      "execution_count": 21,
      "outputs": [
        {
          "output_type": "execute_result",
          "data": {
            "text/html": [
              "<div>\n",
              "<style scoped>\n",
              "    .dataframe tbody tr th:only-of-type {\n",
              "        vertical-align: middle;\n",
              "    }\n",
              "\n",
              "    .dataframe tbody tr th {\n",
              "        vertical-align: top;\n",
              "    }\n",
              "\n",
              "    .dataframe thead th {\n",
              "        text-align: right;\n",
              "    }\n",
              "</style>\n",
              "<table border=\"1\" class=\"dataframe\">\n",
              "  <thead>\n",
              "    <tr style=\"text-align: right;\">\n",
              "      <th></th>\n",
              "      <th>Survived</th>\n",
              "      <th>Pclass</th>\n",
              "      <th>Sex</th>\n",
              "      <th>Age</th>\n",
              "      <th>SibSp</th>\n",
              "      <th>Parch</th>\n",
              "      <th>Fare</th>\n",
              "      <th>fam_size</th>\n",
              "    </tr>\n",
              "    <tr>\n",
              "      <th>PassengerId</th>\n",
              "      <th></th>\n",
              "      <th></th>\n",
              "      <th></th>\n",
              "      <th></th>\n",
              "      <th></th>\n",
              "      <th></th>\n",
              "      <th></th>\n",
              "      <th></th>\n",
              "    </tr>\n",
              "  </thead>\n",
              "  <tbody>\n",
              "    <tr>\n",
              "      <th>1</th>\n",
              "      <td>False</td>\n",
              "      <td>3</td>\n",
              "      <td>0</td>\n",
              "      <td>22.0</td>\n",
              "      <td>1</td>\n",
              "      <td>0</td>\n",
              "      <td>7.2500</td>\n",
              "      <td>1</td>\n",
              "    </tr>\n",
              "    <tr>\n",
              "      <th>2</th>\n",
              "      <td>True</td>\n",
              "      <td>1</td>\n",
              "      <td>1</td>\n",
              "      <td>38.0</td>\n",
              "      <td>1</td>\n",
              "      <td>0</td>\n",
              "      <td>71.2833</td>\n",
              "      <td>1</td>\n",
              "    </tr>\n",
              "    <tr>\n",
              "      <th>3</th>\n",
              "      <td>True</td>\n",
              "      <td>3</td>\n",
              "      <td>1</td>\n",
              "      <td>26.0</td>\n",
              "      <td>0</td>\n",
              "      <td>0</td>\n",
              "      <td>7.9250</td>\n",
              "      <td>0</td>\n",
              "    </tr>\n",
              "    <tr>\n",
              "      <th>4</th>\n",
              "      <td>True</td>\n",
              "      <td>1</td>\n",
              "      <td>1</td>\n",
              "      <td>35.0</td>\n",
              "      <td>1</td>\n",
              "      <td>0</td>\n",
              "      <td>53.1000</td>\n",
              "      <td>1</td>\n",
              "    </tr>\n",
              "    <tr>\n",
              "      <th>5</th>\n",
              "      <td>False</td>\n",
              "      <td>3</td>\n",
              "      <td>0</td>\n",
              "      <td>35.0</td>\n",
              "      <td>0</td>\n",
              "      <td>0</td>\n",
              "      <td>8.0500</td>\n",
              "      <td>0</td>\n",
              "    </tr>\n",
              "  </tbody>\n",
              "</table>\n",
              "</div>"
            ],
            "text/plain": [
              "             Survived Pclass  Sex   Age  SibSp  Parch     Fare  fam_size\n",
              "PassengerId                                                             \n",
              "1               False      3    0  22.0      1      0   7.2500         1\n",
              "2                True      1    1  38.0      1      0  71.2833         1\n",
              "3                True      3    1  26.0      0      0   7.9250         0\n",
              "4                True      1    1  35.0      1      0  53.1000         1\n",
              "5               False      3    0  35.0      0      0   8.0500         0"
            ]
          },
          "metadata": {
            "tags": []
          },
          "execution_count": 21
        }
      ]
    },
    {
      "cell_type": "markdown",
      "metadata": {
        "id": "qlfNQraM7c_R"
      },
      "source": [
        "## 데이터 형변환 및 결손 데이터 처리"
      ]
    },
    {
      "cell_type": "code",
      "metadata": {
        "colab": {
          "base_uri": "https://localhost:8080/"
        },
        "id": "fKB2UgLK36Fc",
        "outputId": "26d0c098-a70b-4bbb-b007-312aeeb00482"
      },
      "source": [
        "# 데이터 형 변환 (소수점)\n",
        "titanic['Pclass'] = titanic['Pclass'].astype('float')\n",
        "titanic['Sex'] = titanic['Sex'].astype('float')\n",
        "titanic['SibSp'] = titanic['SibSp'].astype('float')\n",
        "titanic['Parch'] = titanic['Parch'].astype('float')\n",
        "titanic['Fare'] = titanic['Fare'].astype('float')\n",
        "\n",
        "#null(결손) 값인 경우 삭제\n",
        "titanic = titanic[titanic['Survived'].notnull()]\n",
        "titanic = titanic[titanic['Age'].notnull()]\n",
        "titanic = titanic[titanic['SibSp'].notnull()]\n",
        "titanic = titanic[titanic['Parch'].notnull()]\n",
        "titanic = titanic[titanic['Fare'].notnull()]\n",
        "\n",
        "titanic.info()"
      ],
      "execution_count": 22,
      "outputs": [
        {
          "output_type": "stream",
          "text": [
            "<class 'pandas.core.frame.DataFrame'>\n",
            "Int64Index: 714 entries, 1 to 891\n",
            "Data columns (total 8 columns):\n",
            " #   Column    Non-Null Count  Dtype  \n",
            "---  ------    --------------  -----  \n",
            " 0   Survived  714 non-null    bool   \n",
            " 1   Pclass    714 non-null    float64\n",
            " 2   Sex       714 non-null    float64\n",
            " 3   Age       714 non-null    float64\n",
            " 4   SibSp     714 non-null    float64\n",
            " 5   Parch     714 non-null    float64\n",
            " 6   Fare      714 non-null    float64\n",
            " 7   fam_size  714 non-null    int64  \n",
            "dtypes: bool(1), float64(6), int64(1)\n",
            "memory usage: 45.3 KB\n"
          ],
          "name": "stdout"
        }
      ]
    },
    {
      "cell_type": "markdown",
      "metadata": {
        "id": "N60rak_T74Bq"
      },
      "source": [
        "## 데이터 분리하기 X(문제집), y(정답)"
      ]
    },
    {
      "cell_type": "code",
      "metadata": {
        "id": "7LDE_wea7xU6"
      },
      "source": [
        "titanic_labels = titanic['Survived'].copy()\n",
        "titanic = titanic.drop('Survived', axis=1)"
      ],
      "execution_count": 23,
      "outputs": []
    },
    {
      "cell_type": "markdown",
      "metadata": {
        "id": "-9PIT3yB8Pej"
      },
      "source": [
        "## 훈련 데이터, 테스트데이터셋분리하기"
      ]
    },
    {
      "cell_type": "code",
      "metadata": {
        "id": "PwiqTp9V8O4R"
      },
      "source": [
        "X_train, X_test, y_train, y_test = train_test_split(titanic,\n",
        "                                                    titanic_labels, \n",
        "                                                    train_size=0.8, # test_size=0.2\n",
        "                                                    random_state=7)"
      ],
      "execution_count": 24,
      "outputs": []
    },
    {
      "cell_type": "markdown",
      "metadata": {
        "id": "f-BzOkEl8ssq"
      },
      "source": [
        "## 머신러닝 모델 구축"
      ]
    },
    {
      "cell_type": "code",
      "metadata": {
        "id": "RLgQLloX9J17"
      },
      "source": [
        "def plot_auc_roc(model):\n",
        "    probs = model.predict_proba(X_test)\n",
        "    preds = probs[:,1]\n",
        "    fpr, tpr, threshold = metrics.roc_curve(y_test, preds)\n",
        "    roc_auc = metrics.auc(fpr, tpr)\n",
        "\n",
        "    # method I: plt\n",
        "    import matplotlib.pyplot as plt\n",
        "    plt.title('Receiver Operating Characteristic')\n",
        "    plt.plot(fpr, tpr, 'b', label = 'AUC = %0.2f' % roc_auc)\n",
        "    plt.legend(loc = 'lower right')\n",
        "    plt.plot([0, 1], [0, 1],'r--')\n",
        "    plt.xlim([0, 1])\n",
        "    plt.ylim([0, 1])\n",
        "    plt.ylabel('True Positive Rate')\n",
        "    plt.xlabel('False Positive Rate')\n",
        "    plt.show()"
      ],
      "execution_count": 25,
      "outputs": []
    },
    {
      "cell_type": "markdown",
      "metadata": {
        "id": "PFdzf25G9Mwb"
      },
      "source": [
        "### 1) LogisticRegression"
      ]
    },
    {
      "cell_type": "code",
      "metadata": {
        "colab": {
          "base_uri": "https://localhost:8080/"
        },
        "id": "1C6F1mLx8msX",
        "outputId": "69080aab-d9b1-4a23-93b5-6fa60f4ecff7"
      },
      "source": [
        "log_reg = LogisticRegression().fit(X_train, y_train)\n",
        "\n",
        "# 정확도 확인\n",
        "print('Train data Score : ', log_reg.score(X_train, y_train))\n",
        "print('Test data Score : ', log_reg.score(X_test, y_test))"
      ],
      "execution_count": 26,
      "outputs": [
        {
          "output_type": "stream",
          "text": [
            "Train data Score :  0.8178633975481612\n",
            "Test data Score :  0.7832167832167832\n"
          ],
          "name": "stdout"
        },
        {
          "output_type": "stream",
          "text": [
            "/usr/local/lib/python3.7/dist-packages/sklearn/linear_model/_logistic.py:940: ConvergenceWarning: lbfgs failed to converge (status=1):\n",
            "STOP: TOTAL NO. of ITERATIONS REACHED LIMIT.\n",
            "\n",
            "Increase the number of iterations (max_iter) or scale the data as shown in:\n",
            "    https://scikit-learn.org/stable/modules/preprocessing.html\n",
            "Please also refer to the documentation for alternative solver options:\n",
            "    https://scikit-learn.org/stable/modules/linear_model.html#logistic-regression\n",
            "  extra_warning_msg=_LOGISTIC_SOLVER_CONVERGENCE_MSG)\n"
          ],
          "name": "stderr"
        }
      ]
    },
    {
      "cell_type": "code",
      "metadata": {
        "colab": {
          "base_uri": "https://localhost:8080/",
          "height": 295
        },
        "id": "JIw7hhP19Qkk",
        "outputId": "23e8c7b6-aef5-4489-bdcf-c087b2b43416"
      },
      "source": [
        "# Logistic Regression ROC 커브\n",
        "plot_auc_roc(log_reg)"
      ],
      "execution_count": 27,
      "outputs": [
        {
          "output_type": "display_data",
          "data": {
            "image/png": "[encoded data removed]",
            "text/plain": [
              "<Figure size 432x288 with 1 Axes>"
            ]
          },
          "metadata": {
            "tags": [],
            "needs_background": "light"
          }
        }
      ]
    },
    {
      "cell_type": "code",
      "metadata": {
        "colab": {
          "base_uri": "https://localhost:8080/"
        },
        "id": "wDlVkMMACCJ5",
        "outputId": "3c508c7b-3b86-4f3e-de2b-a18e1e838d22"
      },
      "source": [
        "# Logistic Regression 평가지표\n",
        "lg_y_hat = log_reg.predict(X_test)\n",
        "lg_report = metrics.classification_report(y_test, lg_y_hat)\n",
        "print('logistic Regression 평가지표')\n",
        "print(lg_report)\n",
        "print('accuracy', metrics.accuracy_score(y_test,lg_y_hat) )\n",
        "print('precision', metrics.precision_score(y_test,lg_y_hat) )\n",
        "print('recall', metrics.recall_score(y_test,lg_y_hat) )\n",
        "print('f1', metrics.f1_score(y_test,lg_y_hat) )"
      ],
      "execution_count": 35,
      "outputs": [
        {
          "output_type": "stream",
          "text": [
            "logistic Regression 평가지표\n",
            "              precision    recall  f1-score   support\n",
            "\n",
            "       False       0.76      0.89      0.82        80\n",
            "        True       0.82      0.65      0.73        63\n",
            "\n",
            "    accuracy                           0.78       143\n",
            "   macro avg       0.79      0.77      0.77       143\n",
            "weighted avg       0.79      0.78      0.78       143\n",
            "\n",
            "accuracy 0.7832167832167832\n",
            "precision 0.82\n",
            "recall 0.6507936507936508\n",
            "f1 0.7256637168141592\n"
          ],
          "name": "stdout"
        }
      ]
    },
    {
      "cell_type": "markdown",
      "metadata": {
        "id": "fvHZfzFb81T5"
      },
      "source": [
        "### 2) Decision Tree"
      ]
    },
    {
      "cell_type": "code",
      "metadata": {
        "colab": {
          "base_uri": "https://localhost:8080/"
        },
        "id": "MnCRaxew8y5B",
        "outputId": "3f765185-a94b-4a1a-d3d3-d4894cac9c43"
      },
      "source": [
        "tree = DecisionTreeClassifier(max_depth=5,\n",
        "                              min_samples_leaf=20,\n",
        "                              min_samples_split=40).fit(X_train, y_train)\n",
        "\n",
        "# 정확도 확인\n",
        "print('Train data Score : ', tree.score(X_train, y_train))\n",
        "print('Test data Score : ', tree.score(X_test, y_test))"
      ],
      "execution_count": 28,
      "outputs": [
        {
          "output_type": "stream",
          "text": [
            "Train data Score :  0.830122591943958\n",
            "Test data Score :  0.7622377622377622\n"
          ],
          "name": "stdout"
        }
      ]
    },
    {
      "cell_type": "code",
      "metadata": {
        "colab": {
          "base_uri": "https://localhost:8080/",
          "height": 295
        },
        "id": "tOBPAWDH9TC_",
        "outputId": "69f334f1-6af2-4901-ae63-e4bd61dde0ae"
      },
      "source": [
        "# Logistic DecisionTree ROC커브\n",
        "plot_auc_roc(tree)"
      ],
      "execution_count": 29,
      "outputs": [
        {
          "output_type": "display_data",
          "data": {
            "image/png": "[encoded data removed]",
            "text/plain": [
              "<Figure size 432x288 with 1 Axes>"
            ]
          },
          "metadata": {
            "tags": [],
            "needs_background": "light"
          }
        }
      ]
    },
    {
      "cell_type": "code",
      "metadata": {
        "colab": {
          "base_uri": "https://localhost:8080/"
        },
        "id": "jRjj0W78B9uU",
        "outputId": "1180d806-6ece-4c1c-acbd-52fc91333bfb"
      },
      "source": [
        "# Logistic DecisionTree 평가지표\n",
        "tree_y_hat = tree.predict(X_test)\n",
        "tree_report = metrics.classification_report(y_test, tree_y_hat)\n",
        "print('Logistic DecisionTree 평가지표')\n",
        "print(tree_report)\n",
        "print('accuracy', metrics.accuracy_score(y_test,tree_y_hat) )\n",
        "print('precision', metrics.precision_score(y_test,tree_y_hat) )\n",
        "print('recall', metrics.recall_score(y_test,tree_y_hat) )\n",
        "print('f1', metrics.f1_score(y_test,tree_y_hat) )"
      ],
      "execution_count": 36,
      "outputs": [
        {
          "output_type": "stream",
          "text": [
            "Logistic DecisionTree 평가지표\n",
            "              precision    recall  f1-score   support\n",
            "\n",
            "       False       0.73      0.91      0.81        80\n",
            "        True       0.84      0.57      0.68        63\n",
            "\n",
            "    accuracy                           0.76       143\n",
            "   macro avg       0.78      0.74      0.75       143\n",
            "weighted avg       0.78      0.76      0.75       143\n",
            "\n",
            "accuracy 0.7622377622377622\n",
            "precision 0.8372093023255814\n",
            "recall 0.5714285714285714\n",
            "f1 0.679245283018868\n"
          ],
          "name": "stdout"
        }
      ]
    },
    {
      "cell_type": "markdown",
      "metadata": {
        "id": "y5DQWoid8_T0"
      },
      "source": [
        "### 3) GradientBoostingClassifier"
      ]
    },
    {
      "cell_type": "code",
      "metadata": {
        "colab": {
          "base_uri": "https://localhost:8080/"
        },
        "id": "0U4rvmgH89My",
        "outputId": "4beb3ab6-fa76-4090-d28b-32442321b9cb"
      },
      "source": [
        "boost = GradientBoostingClassifier(max_depth=3,\n",
        "                                   learning_rate=0.05).fit(X_train, y_train)\n",
        "\n",
        "# 정확도 확인\n",
        "print('Train data Score : ', boost.score(X_train, y_train))\n",
        "print('Test data Score : ', boost.score(X_test, y_test))"
      ],
      "execution_count": 30,
      "outputs": [
        {
          "output_type": "stream",
          "text": [
            "Train data Score :  0.8914185639229422\n",
            "Test data Score :  0.7832167832167832\n"
          ],
          "name": "stdout"
        }
      ]
    },
    {
      "cell_type": "code",
      "metadata": {
        "colab": {
          "base_uri": "https://localhost:8080/",
          "height": 295
        },
        "id": "gY8xsFlC9WLb",
        "outputId": "6200c693-6d47-4f85-8019-2559233cbb3b"
      },
      "source": [
        "# GradientBoostingClassifier ROC커브\n",
        "plot_auc_roc(boost)"
      ],
      "execution_count": 31,
      "outputs": [
        {
          "output_type": "display_data",
          "data": {
            "image/png": "[encoded data removed]",
            "text/plain": [
              "<Figure size 432x288 with 1 Axes>"
            ]
          },
          "metadata": {
            "tags": [],
            "needs_background": "light"
          }
        }
      ]
    },
    {
      "cell_type": "code",
      "metadata": {
        "colab": {
          "base_uri": "https://localhost:8080/"
        },
        "id": "KmltIwPmCVHL",
        "outputId": "35579b52-fa0f-42b6-99dc-63badfaa39f8"
      },
      "source": [
        "# GradientBoostingClassifier 평가지표\n",
        "boost_y_hat = boost.predict(X_test)\n",
        "boost_report = metrics.classification_report(y_test, boost_y_hat)\n",
        "print('GradientBoostingClassifier 평가지표')\n",
        "print(boost_report)\n",
        "print('accuracy', metrics.accuracy_score(y_test,boost_y_hat) )\n",
        "print('precision', metrics.precision_score(y_test,boost_y_hat) )\n",
        "print('recall', metrics.recall_score(y_test,boost_y_hat) )\n",
        "print('f1', metrics.f1_score(y_test,boost_y_hat) )"
      ],
      "execution_count": 37,
      "outputs": [
        {
          "output_type": "stream",
          "text": [
            "GradientBoostingClassifier 평가지표\n",
            "              precision    recall  f1-score   support\n",
            "\n",
            "       False       0.75      0.93      0.83        80\n",
            "        True       0.86      0.60      0.71        63\n",
            "\n",
            "    accuracy                           0.78       143\n",
            "   macro avg       0.81      0.76      0.77       143\n",
            "weighted avg       0.80      0.78      0.78       143\n",
            "\n",
            "accuracy 0.7832167832167832\n",
            "precision 0.8636363636363636\n",
            "recall 0.6031746031746031\n",
            "f1 0.7102803738317757\n"
          ],
          "name": "stdout"
        }
      ]
    },
    {
      "cell_type": "markdown",
      "metadata": {
        "id": "XKheY6879Vtz"
      },
      "source": [
        "### 4) RandomForestClassifier"
      ]
    },
    {
      "cell_type": "code",
      "metadata": {
        "colab": {
          "base_uri": "https://localhost:8080/"
        },
        "id": "zw5BBVH59Ebq",
        "outputId": "fe057e84-f2a7-422b-dcbb-f9486aee0e44"
      },
      "source": [
        "random = RandomForestClassifier(n_estimators=100,\n",
        "                                random_state=0).fit(X_train, y_train)\n",
        "\n",
        "# 정확도 확인\n",
        "print('Train data Score : ', random.score(X_train, y_train))\n",
        "print('Test data Score : ', random.score(X_test, y_test))\n",
        "\n",
        "# 컬럼이 많을수록 좋았다."
      ],
      "execution_count": 34,
      "outputs": [
        {
          "output_type": "stream",
          "text": [
            "Train data Score :  0.9929947460595446\n",
            "Test data Score :  0.7482517482517482\n"
          ],
          "name": "stdout"
        }
      ]
    },
    {
      "cell_type": "code",
      "metadata": {
        "colab": {
          "base_uri": "https://localhost:8080/",
          "height": 295
        },
        "id": "MYSP1Cmq9sOe",
        "outputId": "e9952808-6e61-4d53-8499-8eb5e31ef58e"
      },
      "source": [
        "# RandomForestClassifier ROC커브\n",
        "plot_auc_roc(random)"
      ],
      "execution_count": 33,
      "outputs": [
        {
          "output_type": "display_data",
          "data": {
            "image/png": "[encoded data removed]",
            "text/plain": [
              "<Figure size 432x288 with 1 Axes>"
            ]
          },
          "metadata": {
            "tags": [],
            "needs_background": "light"
          }
        }
      ]
    },
    {
      "cell_type": "code",
      "metadata": {
        "colab": {
          "base_uri": "https://localhost:8080/"
        },
        "id": "6Dyu0GeN9q74",
        "outputId": "7d39bede-f52c-408a-dad6-ec71221f4ea8"
      },
      "source": [
        "# RandomForestClassifier 평가지표\n",
        "random_y_hat = random.predict(X_test)\n",
        "random_report = metrics.classification_report(y_test, random_y_hat)\n",
        "print('GradientBoostingClassifier 평가지표')\n",
        "print(boost_report)\n",
        "print('accuracy', metrics.accuracy_score(y_test,random_y_hat) )\n",
        "print('precision', metrics.precision_score(y_test,random_y_hat) )\n",
        "print('recall', metrics.recall_score(y_test,random_y_hat) )\n",
        "print('f1', metrics.f1_score(y_test,random_y_hat) )"
      ],
      "execution_count": 38,
      "outputs": [
        {
          "output_type": "stream",
          "text": [
            "GradientBoostingClassifier 평가지표\n",
            "              precision    recall  f1-score   support\n",
            "\n",
            "       False       0.75      0.93      0.83        80\n",
            "        True       0.86      0.60      0.71        63\n",
            "\n",
            "    accuracy                           0.78       143\n",
            "   macro avg       0.81      0.76      0.77       143\n",
            "weighted avg       0.80      0.78      0.78       143\n",
            "\n",
            "accuracy 0.7482517482517482\n",
            "precision 0.7755102040816326\n",
            "recall 0.6031746031746031\n",
            "f1 0.6785714285714285\n"
          ],
          "name": "stdout"
        }
      ]
    },
    {
      "cell_type": "code",
      "metadata": {
        "colab": {
          "base_uri": "https://localhost:8080/",
          "height": 265
        },
        "id": "4rxYy3g0CuYQ",
        "outputId": "86de74ed-702f-4725-fd5e-20531158ebed"
      },
      "source": [
        "precision_list = []\n",
        "recall_list = []\n",
        "\n",
        "# precision 우리가 예측한 사람중에 실재 양성인 사람이 있는 비율\n",
        "# recall 실재중에 우리가 예측한 양성이 있는 비율\n",
        "\n",
        "precision_list.append(metrics.precision_score(y_test, lg_y_hat))\n",
        "recall_list.append(metrics.recall_score(y_test, lg_y_hat))\n",
        "\n",
        "precision_list.append(metrics.precision_score(y_test, tree_y_hat))\n",
        "recall_list.append(metrics.recall_score(y_test, tree_y_hat))\n",
        "\n",
        "precision_list.append(metrics.precision_score(y_test, boost_y_hat))\n",
        "recall_list.append(metrics.recall_score(y_test, boost_y_hat))\n",
        "\n",
        "precision_list.append(metrics.precision_score(y_test, random_y_hat))\n",
        "recall_list.append(metrics.recall_score(y_test, random_y_hat))\n",
        "\n",
        "# 사망했다고 예측했는데 살아있는 경우가 문제가 되는 경우 recall\n",
        "# 틀려도 타격이 별로 없는 경우 precision\n",
        "# 심장병이기 때문에 recall을 선택했어야 했다.\n",
        "# 사실 precision이  00% 이상이면서 recall이 00% 이상인 모델을 선택해야 한다.\n",
        "# 라고 하는 기준점이 존재한다.\n",
        "plt.plot(['lg', 'tree', 'boost', 'random'], precision_list, label='precision')\n",
        "plt.plot(['lg', 'tree', 'boost', 'random'], recall_list, label='recall')\n",
        "plt.legend()\n",
        "plt.show()\n",
        "\n",
        "# 사망, 진료 등은 recall(재현율) 잘못 판단했을 때 critical할 경우, \n",
        "# 추천 알고리즘은 precision(정밀도) 잘 맞추는 게 중요 몇개 틀려도 별 문제가 없을 때\n",
        "# 둘 다 중요하다면 f1스코어로 봐야 한다."
      ],
      "execution_count": 39,
      "outputs": [
        {
          "output_type": "display_data",
          "data": {
            "image/png": "[encoded data removed]",
            "text/plain": [
              "<Figure size 432x288 with 1 Axes>"
            ]
          },
          "metadata": {
            "tags": [],
            "needs_background": "light"
          }
        }
      ]
    },
    {
      "cell_type": "code",
      "metadata": {
        "id": "sphBLj-_FdJD"
      },
      "source": [
        ""
      ],
      "execution_count": null,
      "outputs": []
    }
  ]
}