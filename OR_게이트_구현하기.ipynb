{
  "nbformat": 4,
  "nbformat_minor": 0,
  "metadata": {
    "colab": {
      "name": "OR 게이트 구현하기.ipynb",
      "provenance": [],
      "collapsed_sections": [],
      "authorship_tag": "ABX9TyNgcGO7+n17qgWKwu3OT6hZ",
      "include_colab_link": true
    },
    "kernelspec": {
      "name": "python3",
      "display_name": "Python 3"
    },
    "language_info": {
      "name": "python"
    }
  },
  "cells": [
    {
      "cell_type": "markdown",
      "metadata": {
        "id": "view-in-github",
        "colab_type": "text"
      },
      "source": [
        "<a href=\"https://colab.research.google.com/github/gmrdns03/MachineLearning_Minkyo/blob/main/OR_%EA%B2%8C%EC%9D%B4%ED%8A%B8_%EA%B5%AC%ED%98%84%ED%95%98%EA%B8%B0.ipynb\" target=\"_parent\"><img src=\"https://colab.research.google.com/assets/colab-badge.svg\" alt=\"Open In Colab\"/></a>"
      ]
    },
    {
      "cell_type": "markdown",
      "metadata": {
        "id": "TiXhUZNQMdnG"
      },
      "source": [
        "# OR 게이트 구현해보기\n",
        "\n",
        "0,0 -> 0\n",
        "\n",
        "0, 1 -> 1\n",
        "\n",
        "1, 0 -> 1\n",
        "\n",
        "1, 1 -> 1"
      ]
    },
    {
      "cell_type": "markdown",
      "metadata": {
        "id": "wi8F3sqjNW9f"
      },
      "source": [
        "## 기본 라이브러리 임포트"
      ]
    },
    {
      "cell_type": "code",
      "metadata": {
        "id": "eTpzEuLXMWAM"
      },
      "source": [
        "import numpy as np\n",
        "\n",
        "import tensorflow as tf\n",
        "tf.random.set_seed(777)  # 실행할 때 마다 같은 방법으로 학습하도록 시드를 고정시킨다.\n",
        "\n",
        "from tensorflow.keras.models import Sequential\n",
        "from tensorflow.keras.layers import Dense\n",
        "from tensorflow.keras.optimizers import SGD\n",
        "from tensorflow.keras.losses import mse"
      ],
      "execution_count": 1,
      "outputs": []
    },
    {
      "cell_type": "markdown",
      "metadata": {
        "id": "qfmpKuWjMp6Z"
      },
      "source": [
        "## 데이터 준비하기"
      ]
    },
    {
      "cell_type": "code",
      "metadata": {
        "id": "aPi7-Q6YMwhM"
      },
      "source": [
        "# 데이터 준비하기\n",
        "data = np.array([[0,0], [1,0], [0,1], [1,1]])  # OR 연산 학습 데이터\n",
        "# label = np.array([[0], [1], [1], [1]])  # 정답 OR연산\n",
        "label = np.array([[0], [1], [1], [0]]) # 정답 XOR연산"
      ],
      "execution_count": 2,
      "outputs": []
    },
    {
      "cell_type": "markdown",
      "metadata": {
        "id": "ud8i0j_lN2IY"
      },
      "source": [
        "## 모델 구성하기"
      ]
    },
    {
      "cell_type": "code",
      "metadata": {
        "id": "z1rhew8GNuI8"
      },
      "source": [
        "model = Sequential()  # 신경망들을 순서대로 쌓아야 함\n",
        "model.add(Dense(1, input_shape=(2,), activation='linear'))  # 단층 퍼셉트론 구성\n",
        "# '1'은 퍼셉트론 의개수 또는 은닉 유닛이라고 표현\n",
        "# \n",
        "# model.add() 를 이용해 쌓기\n",
        "# 1층으로 쌓기 model.add를 하나만 써서\n",
        "# activation='linear' 활성화 함수를 선형으로 가져옴\n",
        "\n",
        "# 텐서플로우에서는 덴스의 속성을 여러 방법으로 층을 만들 수 있다."
      ],
      "execution_count": 3,
      "outputs": []
    },
    {
      "cell_type": "markdown",
      "metadata": {
        "id": "X0SicQMOOhNo"
      },
      "source": [
        ""
      ]
    },
    {
      "cell_type": "code",
      "metadata": {
        "id": "0lV0_yB8OeT-"
      },
      "source": [
        "model.compile(optimizer= SGD(), loss=mse, metrics=['acc'])\n",
        "# metrics=['acc'] -> 학습할 때마다 몇점인지 알려줌\n",
        "# loss=mse -> 손실을 민 시퀀셜 에"
      ],
      "execution_count": 4,
      "outputs": []
    },
    {
      "cell_type": "code",
      "metadata": {
        "colab": {
          "base_uri": "https://localhost:8080/"
        },
        "id": "ZM5tKaiAO5fV",
        "outputId": "fdf88a70-5238-4bf6-88c5-73252fd518b3"
      },
      "source": [
        "# 모델 확인하기\n",
        "model.summary()"
      ],
      "execution_count": 5,
      "outputs": [
        {
          "output_type": "stream",
          "text": [
            "Model: \"sequential\"\n",
            "_________________________________________________________________\n",
            "Layer (type)                 Output Shape              Param #   \n",
            "=================================================================\n",
            "dense (Dense)                (None, 1)                 3         \n",
            "=================================================================\n",
            "Total params: 3\n",
            "Trainable params: 3\n",
            "Non-trainable params: 0\n",
            "_________________________________________________________________\n"
          ],
          "name": "stdout"
        }
      ]
    },
    {
      "cell_type": "code",
      "metadata": {
        "colab": {
          "base_uri": "https://localhost:8080/",
          "height": 201
        },
        "id": "Ah18AcftO9TH",
        "outputId": "711ef15e-e551-4475-8a6f-8333fde7db27"
      },
      "source": [
        "tf.keras.utils.plot_model(model, show_shapes=True, show_layer_names=True,rankdir='TB', expand_nested=False, dpi=96)\n"
      ],
      "execution_count": 6,
      "outputs": [
        {
          "output_type": "execute_result",
          "data": {
            "image/png": "[encoded data removed]",
            "text/plain": [
              "<IPython.core.display.Image object>"
            ]
          },
          "metadata": {
            "tags": []
          },
          "execution_count": 6
        }
      ]
    },
    {
      "cell_type": "markdown",
      "metadata": {
        "id": "r0PFXykjPLaI"
      },
      "source": [
        "## 모델 학습시키기"
      ]
    },
    {
      "cell_type": "code",
      "metadata": {
        "colab": {
          "base_uri": "https://localhost:8080/"
        },
        "id": "RHw0SPC0PEN9",
        "outputId": "e99d5100-8fd1-4878-fdf0-330ed17dc47f"
      },
      "source": [
        "history = model.fit(data, label, epochs=200)  # 학습데이터, 정답, 공부횟수입력\n",
        "# epochs= 몇번 학습시킬지\n",
        "# loss가 점점 높아지면 학습이 안되고 있다는 것\n",
        "# loss가 점점 줄어드는 것을 항상 확인해야 한다.\n",
        "# acc가 1.00이라는것은 100퍼 맞춘다는 것\n",
        "\n",
        "# 기본적으로 100번정도 실행시켜보고 어떻게 되는지 확인하고\n",
        "# 500번 정도 시켜서 양상을 확인해서 더 시킬지 말지를 결정"
      ],
      "execution_count": 7,
      "outputs": [
        {
          "output_type": "stream",
          "text": [
            "Epoch 1/200\n",
            "1/1 [==============================] - 0s 286ms/step - loss: 0.9969 - acc: 0.7500\n",
            "Epoch 2/200\n",
            "1/1 [==============================] - 0s 5ms/step - loss: 0.9642 - acc: 0.7500\n",
            "Epoch 3/200\n",
            "1/1 [==============================] - 0s 7ms/step - loss: 0.9334 - acc: 0.7500\n",
            "Epoch 4/200\n",
            "1/1 [==============================] - 0s 5ms/step - loss: 0.9043 - acc: 0.7500\n",
            "Epoch 5/200\n",
            "1/1 [==============================] - 0s 5ms/step - loss: 0.8770 - acc: 0.7500\n",
            "Epoch 6/200\n",
            "1/1 [==============================] - 0s 5ms/step - loss: 0.8512 - acc: 0.7500\n",
            "Epoch 7/200\n",
            "1/1 [==============================] - 0s 7ms/step - loss: 0.8270 - acc: 0.7500\n",
            "Epoch 8/200\n",
            "1/1 [==============================] - 0s 5ms/step - loss: 0.8041 - acc: 0.7500\n",
            "Epoch 9/200\n",
            "1/1 [==============================] - 0s 5ms/step - loss: 0.7825 - acc: 0.7500\n",
            "Epoch 10/200\n",
            "1/1 [==============================] - 0s 6ms/step - loss: 0.7621 - acc: 0.7500\n",
            "Epoch 11/200\n",
            "1/1 [==============================] - 0s 8ms/step - loss: 0.7429 - acc: 0.7500\n",
            "Epoch 12/200\n",
            "1/1 [==============================] - 0s 7ms/step - loss: 0.7248 - acc: 0.7500\n",
            "Epoch 13/200\n",
            "1/1 [==============================] - 0s 6ms/step - loss: 0.7077 - acc: 0.7500\n",
            "Epoch 14/200\n",
            "1/1 [==============================] - 0s 6ms/step - loss: 0.6915 - acc: 0.7500\n",
            "Epoch 15/200\n",
            "1/1 [==============================] - 0s 4ms/step - loss: 0.6762 - acc: 0.7500\n",
            "Epoch 16/200\n",
            "1/1 [==============================] - 0s 6ms/step - loss: 0.6617 - acc: 0.7500\n",
            "Epoch 17/200\n",
            "1/1 [==============================] - 0s 10ms/step - loss: 0.6481 - acc: 0.7500\n",
            "Epoch 18/200\n",
            "1/1 [==============================] - 0s 6ms/step - loss: 0.6351 - acc: 0.7500\n",
            "Epoch 19/200\n",
            "1/1 [==============================] - 0s 8ms/step - loss: 0.6229 - acc: 0.7500\n",
            "Epoch 20/200\n",
            "1/1 [==============================] - 0s 5ms/step - loss: 0.6113 - acc: 0.7500\n",
            "Epoch 21/200\n",
            "1/1 [==============================] - 0s 7ms/step - loss: 0.6003 - acc: 0.7500\n",
            "Epoch 22/200\n",
            "1/1 [==============================] - 0s 9ms/step - loss: 0.5899 - acc: 0.7500\n",
            "Epoch 23/200\n",
            "1/1 [==============================] - 0s 5ms/step - loss: 0.5800 - acc: 0.7500\n",
            "Epoch 24/200\n",
            "1/1 [==============================] - 0s 6ms/step - loss: 0.5707 - acc: 0.7500\n",
            "Epoch 25/200\n",
            "1/1 [==============================] - 0s 5ms/step - loss: 0.5618 - acc: 0.7500\n",
            "Epoch 26/200\n",
            "1/1 [==============================] - 0s 4ms/step - loss: 0.5533 - acc: 0.7500\n",
            "Epoch 27/200\n",
            "1/1 [==============================] - 0s 6ms/step - loss: 0.5453 - acc: 0.7500\n",
            "Epoch 28/200\n",
            "1/1 [==============================] - 0s 5ms/step - loss: 0.5377 - acc: 0.7500\n",
            "Epoch 29/200\n",
            "1/1 [==============================] - 0s 6ms/step - loss: 0.5304 - acc: 0.7500\n",
            "Epoch 30/200\n",
            "1/1 [==============================] - 0s 8ms/step - loss: 0.5235 - acc: 0.7500\n",
            "Epoch 31/200\n",
            "1/1 [==============================] - 0s 11ms/step - loss: 0.5169 - acc: 0.7500\n",
            "Epoch 32/200\n",
            "1/1 [==============================] - 0s 6ms/step - loss: 0.5106 - acc: 0.7500\n",
            "Epoch 33/200\n",
            "1/1 [==============================] - 0s 6ms/step - loss: 0.5047 - acc: 0.7500\n",
            "Epoch 34/200\n",
            "1/1 [==============================] - 0s 8ms/step - loss: 0.4989 - acc: 0.7500\n",
            "Epoch 35/200\n",
            "1/1 [==============================] - 0s 7ms/step - loss: 0.4935 - acc: 0.7500\n",
            "Epoch 36/200\n",
            "1/1 [==============================] - 0s 7ms/step - loss: 0.4883 - acc: 0.7500\n",
            "Epoch 37/200\n",
            "1/1 [==============================] - 0s 6ms/step - loss: 0.4833 - acc: 0.7500\n",
            "Epoch 38/200\n",
            "1/1 [==============================] - 0s 5ms/step - loss: 0.4785 - acc: 0.7500\n",
            "Epoch 39/200\n",
            "1/1 [==============================] - 0s 4ms/step - loss: 0.4739 - acc: 0.7500\n",
            "Epoch 40/200\n",
            "1/1 [==============================] - 0s 10ms/step - loss: 0.4695 - acc: 0.7500\n",
            "Epoch 41/200\n",
            "1/1 [==============================] - 0s 14ms/step - loss: 0.4653 - acc: 0.7500\n",
            "Epoch 42/200\n",
            "1/1 [==============================] - 0s 7ms/step - loss: 0.4613 - acc: 0.7500\n",
            "Epoch 43/200\n",
            "1/1 [==============================] - 0s 7ms/step - loss: 0.4574 - acc: 0.7500\n",
            "Epoch 44/200\n",
            "1/1 [==============================] - 0s 8ms/step - loss: 0.4537 - acc: 0.7500\n",
            "Epoch 45/200\n",
            "1/1 [==============================] - 0s 4ms/step - loss: 0.4501 - acc: 0.7500\n",
            "Epoch 46/200\n",
            "1/1 [==============================] - 0s 9ms/step - loss: 0.4467 - acc: 0.7500\n",
            "Epoch 47/200\n",
            "1/1 [==============================] - 0s 9ms/step - loss: 0.4433 - acc: 0.7500\n",
            "Epoch 48/200\n",
            "1/1 [==============================] - 0s 4ms/step - loss: 0.4401 - acc: 0.7500\n",
            "Epoch 49/200\n",
            "1/1 [==============================] - 0s 6ms/step - loss: 0.4370 - acc: 0.7500\n",
            "Epoch 50/200\n",
            "1/1 [==============================] - 0s 4ms/step - loss: 0.4340 - acc: 0.7500\n",
            "Epoch 51/200\n",
            "1/1 [==============================] - 0s 5ms/step - loss: 0.4312 - acc: 0.7500\n",
            "Epoch 52/200\n",
            "1/1 [==============================] - 0s 4ms/step - loss: 0.4284 - acc: 0.7500\n",
            "Epoch 53/200\n",
            "1/1 [==============================] - 0s 6ms/step - loss: 0.4257 - acc: 0.7500\n",
            "Epoch 54/200\n",
            "1/1 [==============================] - 0s 4ms/step - loss: 0.4230 - acc: 0.7500\n",
            "Epoch 55/200\n",
            "1/1 [==============================] - 0s 13ms/step - loss: 0.4205 - acc: 0.7500\n",
            "Epoch 56/200\n",
            "1/1 [==============================] - 0s 4ms/step - loss: 0.4180 - acc: 0.7500\n",
            "Epoch 57/200\n",
            "1/1 [==============================] - 0s 4ms/step - loss: 0.4157 - acc: 0.7500\n",
            "Epoch 58/200\n",
            "1/1 [==============================] - 0s 12ms/step - loss: 0.4133 - acc: 0.7500\n",
            "Epoch 59/200\n",
            "1/1 [==============================] - 0s 4ms/step - loss: 0.4111 - acc: 0.7500\n",
            "Epoch 60/200\n",
            "1/1 [==============================] - 0s 7ms/step - loss: 0.4089 - acc: 0.7500\n",
            "Epoch 61/200\n",
            "1/1 [==============================] - 0s 4ms/step - loss: 0.4068 - acc: 0.7500\n",
            "Epoch 62/200\n",
            "1/1 [==============================] - 0s 7ms/step - loss: 0.4047 - acc: 0.7500\n",
            "Epoch 63/200\n",
            "1/1 [==============================] - 0s 4ms/step - loss: 0.4027 - acc: 0.7500\n",
            "Epoch 64/200\n",
            "1/1 [==============================] - 0s 7ms/step - loss: 0.4007 - acc: 0.7500\n",
            "Epoch 65/200\n",
            "1/1 [==============================] - 0s 4ms/step - loss: 0.3988 - acc: 0.7500\n",
            "Epoch 66/200\n",
            "1/1 [==============================] - 0s 3ms/step - loss: 0.3969 - acc: 0.7500\n",
            "Epoch 67/200\n",
            "1/1 [==============================] - 0s 5ms/step - loss: 0.3950 - acc: 0.7500\n",
            "Epoch 68/200\n",
            "1/1 [==============================] - 0s 5ms/step - loss: 0.3933 - acc: 0.7500\n",
            "Epoch 69/200\n",
            "1/1 [==============================] - 0s 7ms/step - loss: 0.3915 - acc: 0.7500\n",
            "Epoch 70/200\n",
            "1/1 [==============================] - 0s 4ms/step - loss: 0.3898 - acc: 0.7500\n",
            "Epoch 71/200\n",
            "1/1 [==============================] - 0s 4ms/step - loss: 0.3881 - acc: 0.7500\n",
            "Epoch 72/200\n",
            "1/1 [==============================] - 0s 6ms/step - loss: 0.3865 - acc: 0.7500\n",
            "Epoch 73/200\n",
            "1/1 [==============================] - 0s 4ms/step - loss: 0.3849 - acc: 0.7500\n",
            "Epoch 74/200\n",
            "1/1 [==============================] - 0s 8ms/step - loss: 0.3833 - acc: 0.7500\n",
            "Epoch 75/200\n",
            "1/1 [==============================] - 0s 4ms/step - loss: 0.3817 - acc: 0.7500\n",
            "Epoch 76/200\n",
            "1/1 [==============================] - 0s 4ms/step - loss: 0.3802 - acc: 0.7500\n",
            "Epoch 77/200\n",
            "1/1 [==============================] - 0s 6ms/step - loss: 0.3787 - acc: 0.7500\n",
            "Epoch 78/200\n",
            "1/1 [==============================] - 0s 4ms/step - loss: 0.3773 - acc: 0.7500\n",
            "Epoch 79/200\n",
            "1/1 [==============================] - 0s 4ms/step - loss: 0.3758 - acc: 0.7500\n",
            "Epoch 80/200\n",
            "1/1 [==============================] - 0s 7ms/step - loss: 0.3744 - acc: 0.7500\n",
            "Epoch 81/200\n",
            "1/1 [==============================] - 0s 4ms/step - loss: 0.3730 - acc: 0.7500\n",
            "Epoch 82/200\n",
            "1/1 [==============================] - 0s 4ms/step - loss: 0.3717 - acc: 0.7500\n",
            "Epoch 83/200\n",
            "1/1 [==============================] - 0s 7ms/step - loss: 0.3703 - acc: 0.7500\n",
            "Epoch 84/200\n",
            "1/1 [==============================] - 0s 5ms/step - loss: 0.3690 - acc: 0.7500\n",
            "Epoch 85/200\n",
            "1/1 [==============================] - 0s 5ms/step - loss: 0.3677 - acc: 0.7500\n",
            "Epoch 86/200\n",
            "1/1 [==============================] - 0s 18ms/step - loss: 0.3664 - acc: 0.7500\n",
            "Epoch 87/200\n",
            "1/1 [==============================] - 0s 12ms/step - loss: 0.3652 - acc: 0.7500\n",
            "Epoch 88/200\n",
            "1/1 [==============================] - 0s 7ms/step - loss: 0.3639 - acc: 0.7500\n",
            "Epoch 89/200\n",
            "1/1 [==============================] - 0s 17ms/step - loss: 0.3627 - acc: 0.7500\n",
            "Epoch 90/200\n",
            "1/1 [==============================] - 0s 35ms/step - loss: 0.3615 - acc: 0.7500\n",
            "Epoch 91/200\n",
            "1/1 [==============================] - 0s 34ms/step - loss: 0.3603 - acc: 0.7500\n",
            "Epoch 92/200\n",
            "1/1 [==============================] - 0s 10ms/step - loss: 0.3591 - acc: 0.7500\n",
            "Epoch 93/200\n",
            "1/1 [==============================] - 0s 10ms/step - loss: 0.3580 - acc: 0.7500\n",
            "Epoch 94/200\n",
            "1/1 [==============================] - 0s 6ms/step - loss: 0.3569 - acc: 0.7500\n",
            "Epoch 95/200\n",
            "1/1 [==============================] - 0s 5ms/step - loss: 0.3557 - acc: 0.7500\n",
            "Epoch 96/200\n",
            "1/1 [==============================] - 0s 5ms/step - loss: 0.3546 - acc: 0.7500\n",
            "Epoch 97/200\n",
            "1/1 [==============================] - 0s 30ms/step - loss: 0.3535 - acc: 0.7500\n",
            "Epoch 98/200\n",
            "1/1 [==============================] - 0s 22ms/step - loss: 0.3525 - acc: 0.5000\n",
            "Epoch 99/200\n",
            "1/1 [==============================] - 0s 10ms/step - loss: 0.3514 - acc: 0.5000\n",
            "Epoch 100/200\n",
            "1/1 [==============================] - 0s 11ms/step - loss: 0.3503 - acc: 0.5000\n",
            "Epoch 101/200\n",
            "1/1 [==============================] - 0s 4ms/step - loss: 0.3493 - acc: 0.5000\n",
            "Epoch 102/200\n",
            "1/1 [==============================] - 0s 4ms/step - loss: 0.3483 - acc: 0.5000\n",
            "Epoch 103/200\n",
            "1/1 [==============================] - 0s 7ms/step - loss: 0.3473 - acc: 0.5000\n",
            "Epoch 104/200\n",
            "1/1 [==============================] - 0s 6ms/step - loss: 0.3463 - acc: 0.5000\n",
            "Epoch 105/200\n",
            "1/1 [==============================] - 0s 7ms/step - loss: 0.3453 - acc: 0.5000\n",
            "Epoch 106/200\n",
            "1/1 [==============================] - 0s 3ms/step - loss: 0.3443 - acc: 0.5000\n",
            "Epoch 107/200\n",
            "1/1 [==============================] - 0s 4ms/step - loss: 0.3433 - acc: 0.5000\n",
            "Epoch 108/200\n",
            "1/1 [==============================] - 0s 3ms/step - loss: 0.3424 - acc: 0.5000\n",
            "Epoch 109/200\n",
            "1/1 [==============================] - 0s 5ms/step - loss: 0.3414 - acc: 0.5000\n",
            "Epoch 110/200\n",
            "1/1 [==============================] - 0s 5ms/step - loss: 0.3405 - acc: 0.5000\n",
            "Epoch 111/200\n",
            "1/1 [==============================] - 0s 4ms/step - loss: 0.3396 - acc: 0.5000\n",
            "Epoch 112/200\n",
            "1/1 [==============================] - 0s 3ms/step - loss: 0.3387 - acc: 0.5000\n",
            "Epoch 113/200\n",
            "1/1 [==============================] - 0s 3ms/step - loss: 0.3378 - acc: 0.5000\n",
            "Epoch 114/200\n",
            "1/1 [==============================] - 0s 3ms/step - loss: 0.3369 - acc: 0.5000\n",
            "Epoch 115/200\n",
            "1/1 [==============================] - 0s 4ms/step - loss: 0.3360 - acc: 0.5000\n",
            "Epoch 116/200\n",
            "1/1 [==============================] - 0s 4ms/step - loss: 0.3351 - acc: 0.5000\n",
            "Epoch 117/200\n",
            "1/1 [==============================] - 0s 27ms/step - loss: 0.3343 - acc: 0.5000\n",
            "Epoch 118/200\n",
            "1/1 [==============================] - 0s 13ms/step - loss: 0.3334 - acc: 0.5000\n",
            "Epoch 119/200\n",
            "1/1 [==============================] - 0s 5ms/step - loss: 0.3326 - acc: 0.5000\n",
            "Epoch 120/200\n",
            "1/1 [==============================] - 0s 7ms/step - loss: 0.3318 - acc: 0.5000\n",
            "Epoch 121/200\n",
            "1/1 [==============================] - 0s 9ms/step - loss: 0.3309 - acc: 0.5000\n",
            "Epoch 122/200\n",
            "1/1 [==============================] - 0s 7ms/step - loss: 0.3301 - acc: 0.5000\n",
            "Epoch 123/200\n",
            "1/1 [==============================] - 0s 3ms/step - loss: 0.3293 - acc: 0.5000\n",
            "Epoch 124/200\n",
            "1/1 [==============================] - 0s 10ms/step - loss: 0.3285 - acc: 0.5000\n",
            "Epoch 125/200\n",
            "1/1 [==============================] - 0s 7ms/step - loss: 0.3277 - acc: 0.5000\n",
            "Epoch 126/200\n",
            "1/1 [==============================] - 0s 5ms/step - loss: 0.3270 - acc: 0.5000\n",
            "Epoch 127/200\n",
            "1/1 [==============================] - 0s 7ms/step - loss: 0.3262 - acc: 0.5000\n",
            "Epoch 128/200\n",
            "1/1 [==============================] - 0s 6ms/step - loss: 0.3254 - acc: 0.5000\n",
            "Epoch 129/200\n",
            "1/1 [==============================] - 0s 7ms/step - loss: 0.3247 - acc: 0.5000\n",
            "Epoch 130/200\n",
            "1/1 [==============================] - 0s 5ms/step - loss: 0.3239 - acc: 0.5000\n",
            "Epoch 131/200\n",
            "1/1 [==============================] - 0s 4ms/step - loss: 0.3232 - acc: 0.5000\n",
            "Epoch 132/200\n",
            "1/1 [==============================] - 0s 5ms/step - loss: 0.3224 - acc: 0.5000\n",
            "Epoch 133/200\n",
            "1/1 [==============================] - 0s 11ms/step - loss: 0.3217 - acc: 0.5000\n",
            "Epoch 134/200\n",
            "1/1 [==============================] - 0s 3ms/step - loss: 0.3210 - acc: 0.5000\n",
            "Epoch 135/200\n",
            "1/1 [==============================] - 0s 4ms/step - loss: 0.3203 - acc: 0.5000\n",
            "Epoch 136/200\n",
            "1/1 [==============================] - 0s 12ms/step - loss: 0.3196 - acc: 0.5000\n",
            "Epoch 137/200\n",
            "1/1 [==============================] - 0s 7ms/step - loss: 0.3189 - acc: 0.5000\n",
            "Epoch 138/200\n",
            "1/1 [==============================] - 0s 7ms/step - loss: 0.3182 - acc: 0.5000\n",
            "Epoch 139/200\n",
            "1/1 [==============================] - 0s 4ms/step - loss: 0.3175 - acc: 0.5000\n",
            "Epoch 140/200\n",
            "1/1 [==============================] - 0s 9ms/step - loss: 0.3169 - acc: 0.5000\n",
            "Epoch 141/200\n",
            "1/1 [==============================] - 0s 6ms/step - loss: 0.3162 - acc: 0.5000\n",
            "Epoch 142/200\n",
            "1/1 [==============================] - 0s 5ms/step - loss: 0.3155 - acc: 0.5000\n",
            "Epoch 143/200\n",
            "1/1 [==============================] - 0s 8ms/step - loss: 0.3149 - acc: 0.5000\n",
            "Epoch 144/200\n",
            "1/1 [==============================] - 0s 4ms/step - loss: 0.3142 - acc: 0.5000\n",
            "Epoch 145/200\n",
            "1/1 [==============================] - 0s 4ms/step - loss: 0.3136 - acc: 0.5000\n",
            "Epoch 146/200\n",
            "1/1 [==============================] - 0s 5ms/step - loss: 0.3130 - acc: 0.5000\n",
            "Epoch 147/200\n",
            "1/1 [==============================] - 0s 7ms/step - loss: 0.3123 - acc: 0.5000\n",
            "Epoch 148/200\n",
            "1/1 [==============================] - 0s 5ms/step - loss: 0.3117 - acc: 0.5000\n",
            "Epoch 149/200\n",
            "1/1 [==============================] - 0s 5ms/step - loss: 0.3111 - acc: 0.5000\n",
            "Epoch 150/200\n",
            "1/1 [==============================] - 0s 10ms/step - loss: 0.3105 - acc: 0.5000\n",
            "Epoch 151/200\n",
            "1/1 [==============================] - 0s 15ms/step - loss: 0.3099 - acc: 0.5000\n",
            "Epoch 152/200\n",
            "1/1 [==============================] - 0s 11ms/step - loss: 0.3093 - acc: 0.5000\n",
            "Epoch 153/200\n",
            "1/1 [==============================] - 0s 7ms/step - loss: 0.3087 - acc: 0.5000\n",
            "Epoch 154/200\n",
            "1/1 [==============================] - 0s 14ms/step - loss: 0.3081 - acc: 0.5000\n",
            "Epoch 155/200\n",
            "1/1 [==============================] - 0s 10ms/step - loss: 0.3075 - acc: 0.5000\n",
            "Epoch 156/200\n",
            "1/1 [==============================] - 0s 7ms/step - loss: 0.3070 - acc: 0.5000\n",
            "Epoch 157/200\n",
            "1/1 [==============================] - 0s 9ms/step - loss: 0.3064 - acc: 0.5000\n",
            "Epoch 158/200\n",
            "1/1 [==============================] - 0s 5ms/step - loss: 0.3058 - acc: 0.5000\n",
            "Epoch 159/200\n",
            "1/1 [==============================] - 0s 5ms/step - loss: 0.3053 - acc: 0.5000\n",
            "Epoch 160/200\n",
            "1/1 [==============================] - 0s 7ms/step - loss: 0.3047 - acc: 0.5000\n",
            "Epoch 161/200\n",
            "1/1 [==============================] - 0s 4ms/step - loss: 0.3042 - acc: 0.5000\n",
            "Epoch 162/200\n",
            "1/1 [==============================] - 0s 8ms/step - loss: 0.3037 - acc: 0.5000\n",
            "Epoch 163/200\n",
            "1/1 [==============================] - 0s 7ms/step - loss: 0.3031 - acc: 0.5000\n",
            "Epoch 164/200\n",
            "1/1 [==============================] - 0s 9ms/step - loss: 0.3026 - acc: 0.5000\n",
            "Epoch 165/200\n",
            "1/1 [==============================] - 0s 7ms/step - loss: 0.3021 - acc: 0.5000\n",
            "Epoch 166/200\n",
            "1/1 [==============================] - 0s 4ms/step - loss: 0.3016 - acc: 0.5000\n",
            "Epoch 167/200\n",
            "1/1 [==============================] - 0s 4ms/step - loss: 0.3011 - acc: 0.5000\n",
            "Epoch 168/200\n",
            "1/1 [==============================] - 0s 4ms/step - loss: 0.3005 - acc: 0.5000\n",
            "Epoch 169/200\n",
            "1/1 [==============================] - 0s 5ms/step - loss: 0.3000 - acc: 0.5000\n",
            "Epoch 170/200\n",
            "1/1 [==============================] - 0s 6ms/step - loss: 0.2995 - acc: 0.5000\n",
            "Epoch 171/200\n",
            "1/1 [==============================] - 0s 12ms/step - loss: 0.2991 - acc: 0.5000\n",
            "Epoch 172/200\n",
            "1/1 [==============================] - 0s 4ms/step - loss: 0.2986 - acc: 0.5000\n",
            "Epoch 173/200\n",
            "1/1 [==============================] - 0s 12ms/step - loss: 0.2981 - acc: 0.5000\n",
            "Epoch 174/200\n",
            "1/1 [==============================] - 0s 3ms/step - loss: 0.2976 - acc: 0.5000\n",
            "Epoch 175/200\n",
            "1/1 [==============================] - 0s 4ms/step - loss: 0.2971 - acc: 0.5000\n",
            "Epoch 176/200\n",
            "1/1 [==============================] - 0s 10ms/step - loss: 0.2967 - acc: 0.5000\n",
            "Epoch 177/200\n",
            "1/1 [==============================] - 0s 17ms/step - loss: 0.2962 - acc: 0.5000\n",
            "Epoch 178/200\n",
            "1/1 [==============================] - 0s 4ms/step - loss: 0.2957 - acc: 0.5000\n",
            "Epoch 179/200\n",
            "1/1 [==============================] - 0s 12ms/step - loss: 0.2953 - acc: 0.5000\n",
            "Epoch 180/200\n",
            "1/1 [==============================] - 0s 11ms/step - loss: 0.2948 - acc: 0.5000\n",
            "Epoch 181/200\n",
            "1/1 [==============================] - 0s 7ms/step - loss: 0.2944 - acc: 0.5000\n",
            "Epoch 182/200\n",
            "1/1 [==============================] - 0s 10ms/step - loss: 0.2940 - acc: 0.5000\n",
            "Epoch 183/200\n",
            "1/1 [==============================] - 0s 12ms/step - loss: 0.2935 - acc: 0.5000\n",
            "Epoch 184/200\n",
            "1/1 [==============================] - 0s 3ms/step - loss: 0.2931 - acc: 0.5000\n",
            "Epoch 185/200\n",
            "1/1 [==============================] - 0s 5ms/step - loss: 0.2927 - acc: 0.5000\n",
            "Epoch 186/200\n",
            "1/1 [==============================] - 0s 5ms/step - loss: 0.2922 - acc: 0.5000\n",
            "Epoch 187/200\n",
            "1/1 [==============================] - 0s 3ms/step - loss: 0.2918 - acc: 0.5000\n",
            "Epoch 188/200\n",
            "1/1 [==============================] - 0s 4ms/step - loss: 0.2914 - acc: 0.5000\n",
            "Epoch 189/200\n",
            "1/1 [==============================] - 0s 4ms/step - loss: 0.2910 - acc: 0.5000\n",
            "Epoch 190/200\n",
            "1/1 [==============================] - 0s 5ms/step - loss: 0.2906 - acc: 0.5000\n",
            "Epoch 191/200\n",
            "1/1 [==============================] - 0s 13ms/step - loss: 0.2902 - acc: 0.5000\n",
            "Epoch 192/200\n",
            "1/1 [==============================] - 0s 4ms/step - loss: 0.2898 - acc: 0.5000\n",
            "Epoch 193/200\n",
            "1/1 [==============================] - 0s 7ms/step - loss: 0.2894 - acc: 0.5000\n",
            "Epoch 194/200\n",
            "1/1 [==============================] - 0s 4ms/step - loss: 0.2890 - acc: 0.5000\n",
            "Epoch 195/200\n",
            "1/1 [==============================] - 0s 3ms/step - loss: 0.2886 - acc: 0.5000\n",
            "Epoch 196/200\n",
            "1/1 [==============================] - 0s 4ms/step - loss: 0.2882 - acc: 0.5000\n",
            "Epoch 197/200\n",
            "1/1 [==============================] - 0s 14ms/step - loss: 0.2879 - acc: 0.5000\n",
            "Epoch 198/200\n",
            "1/1 [==============================] - 0s 15ms/step - loss: 0.2875 - acc: 0.5000\n",
            "Epoch 199/200\n",
            "1/1 [==============================] - 0s 15ms/step - loss: 0.2871 - acc: 0.5000\n",
            "Epoch 200/200\n",
            "1/1 [==============================] - 0s 21ms/step - loss: 0.2867 - acc: 0.5000\n"
          ],
          "name": "stdout"
        }
      ]
    },
    {
      "cell_type": "code",
      "metadata": {
        "colab": {
          "base_uri": "https://localhost:8080/",
          "height": 350
        },
        "id": "WBI7Qk1MPawg",
        "outputId": "2ddf240e-5389-430d-a62f-4a91a71837a9"
      },
      "source": [
        "import matplotlib.pyplot as plt\n",
        "\n",
        "his_dict = history.history\n",
        "loss = his_dict['loss']\n",
        "\n",
        "epochs = range(1, len(loss) + 1)\n",
        "fig = plt.figure(figsize = (10, 5))\n",
        "\n",
        "# 훈련 및 검증 손실 그리기\n",
        "ax1 = fig.add_subplot(1, 2, 1)\n",
        "ax1.plot(epochs, loss, color = 'orange', label = 'train_loss')\n",
        "ax1.set_title('train loss')\n",
        "ax1.set_xlabel('epochs')\n",
        "ax1.set_ylabel('loss')\n",
        "ax1.legend()\n",
        "\n",
        "acc = his_dict['acc']\n",
        "\n",
        "# 훈련 및 검증 정확도 그리기\n",
        "ax2 = fig.add_subplot(1, 2, 2)\n",
        "ax2.plot(epochs, acc, color = 'blue', label = 'train_accuracy')\n",
        "ax2.set_title('train accuracy')\n",
        "ax2.set_xlabel('epochs')\n",
        "ax2.set_ylabel('accuracy')\n",
        "ax2.legend()\n",
        "\n",
        "plt.show()\n",
        "\n",
        "\n",
        "# 손실함수가 틀린 것들을 보정해주면서 떨어지고 정확도는 올라간다.\n",
        "# 손실값이 더 떨어질 수 있을 지, 정확도가 100퍼에 얼마나 근접한지 확인"
      ],
      "execution_count": 8,
      "outputs": [
        {
          "output_type": "display_data",
          "data": {
            "image/png": "[encoded data removed]",
            "text/plain": [
              "<Figure size 720x360 with 2 Axes>"
            ]
          },
          "metadata": {
            "tags": [],
            "needs_background": "light"
          }
        }
      ]
    },
    {
      "cell_type": "markdown",
      "metadata": {
        "id": "RW7j4z4BQQe-"
      },
      "source": [
        "### 모델 가중치 확인하기"
      ]
    },
    {
      "cell_type": "code",
      "metadata": {
        "colab": {
          "base_uri": "https://localhost:8080/"
        },
        "id": "ksPXQuocP5b-",
        "outputId": "180cbcca-2578-4753-c13f-a6664f7bbc81"
      },
      "source": [
        "model.get_weights()\n",
        "# 어느 특성에 가중치를 둬서 학습을 시켰는지를 확인할 수 있다."
      ],
      "execution_count": 9,
      "outputs": [
        {
          "output_type": "execute_result",
          "data": {
            "text/plain": [
              "[array([[ 0.30263716],\n",
              "        [-0.23174001]], dtype=float32), array([0.45685056], dtype=float32)]"
            ]
          },
          "metadata": {
            "tags": []
          },
          "execution_count": 9
        }
      ]
    },
    {
      "cell_type": "markdown",
      "metadata": {
        "id": "oj-syZoiQcjl"
      },
      "source": [
        "## 모델 예측하기"
      ]
    },
    {
      "cell_type": "code",
      "metadata": {
        "colab": {
          "base_uri": "https://localhost:8080/"
        },
        "id": "2N9wztllQVJ0",
        "outputId": "89dd10a1-d55c-434d-8cdf-29d3d7d25fdb"
      },
      "source": [
        "result = model.predict(data)\n",
        "print(result)\n",
        "\n",
        "# 값에 대해 예측한 것은 확률 처럼 나온다."
      ],
      "execution_count": 10,
      "outputs": [
        {
          "output_type": "stream",
          "text": [
            "[[0.45685056]\n",
            " [0.75948775]\n",
            " [0.22511055]\n",
            " [0.5277477 ]]\n"
          ],
          "name": "stdout"
        }
      ]
    },
    {
      "cell_type": "code",
      "metadata": {
        "colab": {
          "base_uri": "https://localhost:8080/"
        },
        "id": "c3Z9_7nRQj7c",
        "outputId": "0eba2f4b-6e57-42c4-d596-7096b17d3087"
      },
      "source": [
        "result = model.predict_classes(data)\n",
        "print(result)\n"
      ],
      "execution_count": 11,
      "outputs": [
        {
          "output_type": "stream",
          "text": [
            "[[0]\n",
            " [1]\n",
            " [0]\n",
            " [1]]\n"
          ],
          "name": "stdout"
        },
        {
          "output_type": "stream",
          "text": [
            "/usr/local/lib/python3.7/dist-packages/tensorflow/python/keras/engine/sequential.py:455: UserWarning: `model.predict_classes()` is deprecated and will be removed after 2021-01-01. Please use instead:* `np.argmax(model.predict(x), axis=-1)`,   if your model does multi-class classification   (e.g. if it uses a `softmax` last-layer activation).* `(model.predict(x) > 0.5).astype(\"int32\")`,   if your model does binary classification   (e.g. if it uses a `sigmoid` last-layer activation).\n",
            "  warnings.warn('`model.predict_classes()` is deprecated and '\n"
          ],
          "name": "stderr"
        }
      ]
    },
    {
      "cell_type": "code",
      "metadata": {
        "id": "6ivpVcjjQwkk"
      },
      "source": [
        ""
      ],
      "execution_count": 11,
      "outputs": []
    }
  ]
}