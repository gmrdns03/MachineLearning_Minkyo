{
 "cells": [
  {
   "cell_type": "markdown",
   "metadata": {},
   "source": [
    "# 4.1 스칼라 벡터 행렬 텐서"
   ]
  },
  {
   "cell_type": "markdown",
   "metadata": {},
   "source": [
    "## 411_스칼라"
   ]
  },
  {
   "cell_type": "markdown",
   "metadata": {},
   "source": [
    "## 413_벡터\n",
    "스칼라를 직선상에 나열한 것"
   ]
  },
  {
   "cell_type": "code",
   "execution_count": 1,
   "metadata": {},
   "outputs": [
    {
     "name": "stdout",
     "output_type": "stream",
     "text": [
      "[1 2 3]\n"
     ]
    }
   ],
   "source": [
    "# 리스트 4.2_Numpy의 1차원 배열로 나타낸다\n",
    "import numpy as np\n",
    "\n",
    "a = np.array([1,2,3]) # 1차원 배열로 벡터를 나타낸다.\n",
    "print(a)"
   ]
  },
  {
   "cell_type": "markdown",
   "metadata": {},
   "source": [
    "## 415_행렬\n",
    "\n",
    "행렬은 스칼라를 격자 형태로 나열한 것"
   ]
  },
  {
   "cell_type": "code",
   "execution_count": 1,
   "metadata": {},
   "outputs": [
    {
     "name": "stdout",
     "output_type": "stream",
     "text": [
      "[[1 2 3]\n",
      " [4 5 6]]\n"
     ]
    }
   ],
   "source": [
    "# 리스트 4.3_행렬을 Numpy의 2차원 배열로 나타낸다.\n",
    "import numpy as np\n",
    "\n",
    "a = np.array([[1,2,3],\n",
    "             [4,5,6]]) # 2x3의 행렬\n",
    "print(a)"
   ]
  },
  {
   "cell_type": "markdown",
   "metadata": {},
   "source": [
    "## 417_텐서\n",
    "텐서는 스칼라를 여러 개의 차원으로 나열한 것\n",
    "스칼라, 벡터, 행렬을 포함한다."
   ]
  },
  {
   "cell_type": "code",
   "execution_count": 2,
   "metadata": {},
   "outputs": [
    {
     "name": "stdout",
     "output_type": "stream",
     "text": [
      "[[[0 1 2 3]\n",
      "  [2 3 4 5]\n",
      "  [4 5 6 7]]\n",
      "\n",
      " [[1 2 3 4]\n",
      "  [3 4 5 6]\n",
      "  [5 6 7 8]]]\n"
     ]
    }
   ],
   "source": [
    "# 리스트 4.4_3층의 텐서를 Numpy의 배열로 나타낸다.\n",
    "import numpy as np\n",
    "\n",
    "a = np.array([[[0,1,2,3],\n",
    "              [2,3,4,5],\n",
    "              [4,5,6,7]],\n",
    "             \n",
    "             [[1,2,3,4],\n",
    "             [3,4,5,6],\n",
    "             [5,6,7,8]]]) # (2, 3, 4)-> (2차원 3행 4열)의 3차원 텐서\n",
    "print(a)"
   ]
  },
  {
   "cell_type": "markdown",
   "metadata": {},
   "source": [
    "# 4.2_벡터의 내적과 놈"
   ]
  },
  {
   "cell_type": "markdown",
   "metadata": {},
   "source": [
    "## 421_내적\n",
    "벡터끼리 곱의 한 종류\n",
    "\n",
    "각 요소끼리 곱한 값을 총합\n",
    "\n",
    "제한: 두 개의 벡터의 요소 수가 같아야 한다.\n",
    "\n",
    "#### dot() \n",
    "함수로 간단하게 구할 수 있다.\n",
    "\n",
    "#### sum()함수\n",
    "를 이용해서 각 요소의 곱의 총합으로도 구할 수 있다.\n",
    "\n",
    "#### 두 개 데이터의 상관관계를 구할 때 등에 사용\n"
   ]
  },
  {
   "cell_type": "code",
   "execution_count": 3,
   "metadata": {},
   "outputs": [
    {
     "name": "stdout",
     "output_type": "stream",
     "text": [
      "-------dot함수-------\n",
      "10\n",
      "\n",
      "-------sum함수-------\n",
      "10\n"
     ]
    }
   ],
   "source": [
    "# 리스트 4.6_벡터의 내적을 계산한다.\n",
    "import numpy as np\n",
    "\n",
    "a = np.array([1,2,3])\n",
    "b = np.array([3,2,1])\n",
    "\n",
    "print('-------dot함수-------')\n",
    "print(np.dot(a,b))\n",
    "print()\n",
    "print('-------sum함수-------')\n",
    "print(sum(a*b))"
   ]
  },
  {
   "cell_type": "markdown",
   "metadata": {},
   "source": [
    "## 423_놈\n",
    "벡터의 '크기'를 나타내는 양\n",
    "\n",
    "#### L2놈 np.linalg.norm() --> 디폴트가 L2인 함수\n",
    "벡터의 각 요소를 제곱합하여 제곱근을 구함\n",
    "\n",
    "#### L1놈 np.linalg.norm(,1) --> 1을 줘서 L1놈 구함 \n",
    "벡터의 각 요소의 절댓값을 더해서 계산\n",
    "<br>\n",
    "<br>\n",
    "#### 놈은 인공지능에서 정칙화에 쓰인다.\n",
    "정칙화란 필요 이상으로 네트워크 학습이 진행되는 것을 파라미터로 조절해서 예방하는 것\n",
    "\n",
    "\n",
    "##### linalg는 Linear Algebra라는 선형 대수학의 준말인듯"
   ]
  },
  {
   "cell_type": "code",
   "execution_count": 4,
   "metadata": {},
   "outputs": [
    {
     "name": "stdout",
     "output_type": "stream",
     "text": [
      "-------L2놈-------\n",
      "2.0\n",
      "\n",
      "-------L1놈-------\n",
      "4.0\n"
     ]
    }
   ],
   "source": [
    "# 리스트 4.7_linalg.norm()함수를 사용해 놈을 계산한다.\n",
    "import numpy as np\n",
    "\n",
    "a = np.array([1, 1, -1, -1])\n",
    "\n",
    "print('-------L2놈-------')\n",
    "print(np.linalg.norm(a))\n",
    "print()\n",
    "print('-------L1놈-------')\n",
    "print(np.linalg.norm(a,1))"
   ]
  },
  {
   "cell_type": "markdown",
   "metadata": {},
   "source": [
    "# 4.3_ 행렬곱 vs 요소별 곱(아다마르 곱)\n",
    "\n",
    "행렬곱은 dot() 함수를 사용한다."
   ]
  },
  {
   "cell_type": "code",
   "execution_count": 5,
   "metadata": {},
   "outputs": [
    {
     "name": "stdout",
     "output_type": "stream",
     "text": [
      "[[12  6]\n",
      " [30 15]]\n"
     ]
    }
   ],
   "source": [
    "# 리스트 4.10_ Numpy를 사용해서 행렬곱을 계산한다.\n",
    "import numpy as np\n",
    "\n",
    "a = np.array([[1,2,3],\n",
    "             [4,5,6]]) # 2x3의 행렬\n",
    "\n",
    "b = np.array([[2,1],\n",
    "             [2,1],\n",
    "             [2,1]])\n",
    "\n",
    "print(np.dot(a, b))"
   ]
  },
  {
   "cell_type": "code",
   "execution_count": 6,
   "metadata": {},
   "outputs": [
    {
     "name": "stdout",
     "output_type": "stream",
     "text": [
      "-------요소별 곱하기-------\n",
      "[[ 1  4 12  6]\n",
      " [ 4  9  4  5]\n",
      " [32 30 36 63]]\n",
      "\n",
      "-------요소별 나누기-------\n",
      "[[1.         0.25       0.33333333 1.5       ]\n",
      " [1.         1.         4.         5.        ]\n",
      " [0.5        0.83333333 1.         0.77777778]]\n",
      "\n",
      "-------요소별 더하기-------\n",
      "[[ 2  5  8  5]\n",
      " [ 4  6  5  6]\n",
      " [12 11 12 16]]\n",
      "\n",
      "-------요소별 빼기-------\n",
      "[[ 0 -3 -4  1]\n",
      " [ 0  0  3  4]\n",
      " [-4 -1  0 -2]]\n"
     ]
    }
   ],
   "source": [
    "# 리스트 4.11_ Numpy를 사용해 요소별 곱을 계산한다.\n",
    "import numpy as np\n",
    "\n",
    "a = np.array([[1,1,2,3],\n",
    "              [2,3,4,5],\n",
    "              [4,5,6,7]])\n",
    "\n",
    "b = np.array([[1,4,6,2],\n",
    "              [2,3,1,1],\n",
    "              [8,6,6,9]])\n",
    "\n",
    "print('-------요소별 곱하기-------')\n",
    "print(a*b)\n",
    "print()\n",
    "print('-------요소별 나누기-------')\n",
    "print(a/b)\n",
    "print()\n",
    "print('-------요소별 더하기-------')\n",
    "print(a+b)\n",
    "print()\n",
    "print('-------요소별 빼기-------')\n",
    "print(a-b)"
   ]
  },
  {
   "cell_type": "markdown",
   "metadata": {},
   "source": [
    "# 4.4_전치\n",
    "전치를 통해 행과 열을 뒤바꿀 수 있다.\n",
    "배열명 뒤에 .T 를 붙이면 된다."
   ]
  },
  {
   "cell_type": "code",
   "execution_count": 7,
   "metadata": {},
   "outputs": [
    {
     "name": "stdout",
     "output_type": "stream",
     "text": [
      "[[1 2 3]\n",
      " [4 5 6]]\n",
      "\n",
      "[[1 4]\n",
      " [2 5]\n",
      " [3 6]]\n",
      "\n",
      "[[1 2 3]\n",
      " [4 5 6]]\n"
     ]
    }
   ],
   "source": [
    "# 리스트 4.14_ 행렬을 전치한다.\n",
    "import numpy as np\n",
    "\n",
    "a = np.array([[1,2,3],\n",
    "             [4,5,6]]) # 2x3의 행렬\n",
    "print(a)\n",
    "print()\n",
    "print(a.T)  # 원본을 바꾸진 않는다.\n",
    "print()\n",
    "print(a)"
   ]
  },
  {
   "cell_type": "markdown",
   "metadata": {},
   "source": [
    "## 444_전치와 행렬곱의 구현\n",
    "전치를 통해\n",
    "\n",
    "앞 행렬의 열수와 뒤 행렬의 행수를 일치시켜\n",
    "\n",
    "곱을 가능하게 할 수도 있다."
   ]
  },
  {
   "cell_type": "code",
   "execution_count": 8,
   "metadata": {},
   "outputs": [
    {
     "name": "stdout",
     "output_type": "stream",
     "text": [
      "[[14 32]\n",
      " [32 77]]\n"
     ]
    }
   ],
   "source": [
    "# 리스트 4.15_ 전치하고 나서 행렬곱을 실시한다.\n",
    "import numpy as np\n",
    "\n",
    "a = np.array([[1,2,3],\n",
    "             [4,5,6]]) # 2x3의 행렬\n",
    "\n",
    "b = np.array([[1,2,3],\n",
    "             [4,5,6]]) # 2x3의 행렬\n",
    "\n",
    "print(np.dot(a, b.T))"
   ]
  },
  {
   "cell_type": "markdown",
   "metadata": {},
   "source": [
    "# 4.5_ 행렬식과 역행렬"
   ]
  },
  {
   "cell_type": "markdown",
   "metadata": {},
   "source": [
    "## 451_ 단위행렬\n",
    "같은 크기의 행렬에 곱해도 곱하는 대상의 행렬을 변화시키지 않는 성질이 있다.\n",
    "\n",
    "행과 열 수가 같은 정방행렬의 경우에만 가능하다.\n",
    "\n",
    "#### eye()함수"
   ]
  },
  {
   "cell_type": "code",
   "execution_count": 9,
   "metadata": {},
   "outputs": [
    {
     "name": "stdout",
     "output_type": "stream",
     "text": [
      "[[1. 0.]\n",
      " [0. 1.]]\n",
      "\n",
      "[[1. 0. 0.]\n",
      " [0. 1. 0.]\n",
      " [0. 0. 1.]]\n",
      "\n",
      "[[1. 0. 0. 0.]\n",
      " [0. 1. 0. 0.]\n",
      " [0. 0. 1. 0.]\n",
      " [0. 0. 0. 1.]]\n"
     ]
    }
   ],
   "source": [
    "# 리스트 4.18 eye()함수를 사용해 단위행렬을 만든다.\n",
    "import numpy as np\n",
    "\n",
    "print(np.eye(2))  # 2x2의 단위행렬\n",
    "print()\n",
    "print(np.eye(3))  # 2x2의 단위행렬\n",
    "print()\n",
    "print(np.eye(4))  # 2x2의 단위행렬"
   ]
  },
  {
   "cell_type": "markdown",
   "metadata": {},
   "source": [
    "## 453_ 역행렬\n",
    "곱하면 단위 행렬이 되는 행렬"
   ]
  },
  {
   "cell_type": "markdown",
   "metadata": {},
   "source": [
    "## 454_ 행렬식\n",
    "역행렬이 존재하지 않는 경우가 있다.\n",
    "\n",
    "행렬식 = 0 인 경우 역행렬은 존재하지 않는다.\n",
    "\n",
    "#### linalg.det() 함수"
   ]
  },
  {
   "cell_type": "code",
   "execution_count": 1,
   "metadata": {},
   "outputs": [
    {
     "name": "stdout",
     "output_type": "stream",
     "text": [
      "-2.0000000000000004\n",
      "0.0\n"
     ]
    }
   ],
   "source": [
    "# 리스트 4.19 linalg.det() 함수를 사용해 행렬식을 구한다.\n",
    "import numpy as np\n",
    "\n",
    "a = np.array([[1,2],\n",
    "             [3,4]]) # 2x3의 행렬\n",
    "\n",
    "print(np.linalg.det(a)) # 행렬식이 0이 되지 않는 경우\n",
    "\n",
    "b = np.array([[1,2],\n",
    "             [0,0]]) # 2x3의 행렬\n",
    "print(np.linalg.det(b)) # 행렬식이 0이 되는 경우"
   ]
  },
  {
   "cell_type": "markdown",
   "metadata": {},
   "source": [
    "## 456_ 역행렬의 구현\n",
    "linalg.det() = 0 이 아닌 경우\n",
    "#### linalg.inv() 함수\n",
    "inv는 inverse의 약자\n",
    "\n",
    "##### 역행렬은 인공지능에서 변수끼리의 상관관계를 알아보는 회귀분석에 활용된다."
   ]
  },
  {
   "cell_type": "code",
   "execution_count": 11,
   "metadata": {},
   "outputs": [
    {
     "name": "stdout",
     "output_type": "stream",
     "text": [
      "[[-2.   1. ]\n",
      " [ 1.5 -0.5]]\n"
     ]
    }
   ],
   "source": [
    "# 리스트 4.20 linalg.inv() 함수를 사용해 역행렬을 구한다.\n",
    "import numpy as np\n",
    "\n",
    "a = np.array([[1,2],\n",
    "             [3,4]]) # 2x3의 행렬\n",
    "\n",
    "print(np.linalg.inv(a)) # 행렬식이 0이 되지 않는 경우"
   ]
  },
  {
   "cell_type": "markdown",
   "metadata": {},
   "source": [
    "# 4.6_ 선형변환\n",
    "인공지능에서 뉴럴 네트워크로 정보를 전파시키키는데 선형변환을 사용한다.\n",
    "\n",
    "#### quiver()함수 사용"
   ]
  },
  {
   "cell_type": "markdown",
   "metadata": {},
   "source": [
    "#### quiver(시작점의 x좌표, 끝점의 y좌표, 화살표의 x성분, 화살표의 y성분, angles=화살표의 각도의 결정방법, scale_units=스케일의 단위, scale=스케일, color=화살표의 색)"
   ]
  },
  {
   "cell_type": "code",
   "execution_count": 4,
   "metadata": {},
   "outputs": [
    {
     "data": {
      "text/plain": [
       "<function matplotlib.pyplot.show(*args, **kw)>"
      ]
     },
     "execution_count": 4,
     "metadata": {},
     "output_type": "execute_result"
    },
    {
     "data": {
      "image/png": "[encoded data removed]",
      "text/plain": [
       "<Figure size 432x288 with 1 Axes>"
      ]
     },
     "metadata": {
      "needs_background": "light"
     },
     "output_type": "display_data"
    }
   ],
   "source": [
    "import numpy\n",
    "import matplotlib.pyplot as plt\n",
    "\n",
    "# 화살표를 그리는 함수 만들기\n",
    "def arrow(start, size, color) :\n",
    "    plt.quiver(start[0], start[1], size[0], size[1], \n",
    "               angles=\"xy\", scale_units=\"xy\", scale=1, color=color)\n",
    "    \n",
    "\n",
    "# 화살표의 시작점\n",
    "s = np.array([0,0])  # 원점\n",
    "\n",
    "# 벡터\n",
    "a = np.array([2,3])\n",
    "\n",
    "arrow(s, a, color='black')\n",
    "\n",
    "# 그래프 표시\n",
    "plt.xlim([-3,3])\n",
    "plt.ylim([-3,3])\n",
    "plt.xlabel(\"x\", size=14)\n",
    "plt.ylabel(\"y\", size=14)\n",
    "plt.grid()\n",
    "plt.gca().set_aspect(\"equal\")\n",
    "plt.show"
   ]
  },
  {
   "cell_type": "code",
   "execution_count": 6,
   "metadata": {},
   "outputs": [
    {
     "name": "stdout",
     "output_type": "stream",
     "text": [
      "변환 전 벡터: [2 3]\n",
      "변환 후 벡터: [ 1 -2]\n"
     ]
    },
    {
     "data": {
      "text/plain": [
       "<function matplotlib.pyplot.show(*args, **kw)>"
      ]
     },
     "execution_count": 6,
     "metadata": {},
     "output_type": "execute_result"
    },
    {
     "data": {
      "image/png": "[encoded data removed]",
      "text/plain": [
       "<Figure size 432x288 with 1 Axes>"
      ]
     },
     "metadata": {
      "needs_background": "light"
     },
     "output_type": "display_data"
    }
   ],
   "source": [
    "import numpy\n",
    "import matplotlib.pyplot as plt\n",
    "\n",
    "\n",
    "# 변환 전 벡터\n",
    "a = np.array([2,3])\n",
    "\n",
    "A = np.array([[2,-1],[2,-2]])\n",
    "\n",
    "# 선형변환\n",
    "b = np.dot(A, a)\n",
    "\n",
    "print('변환 전 벡터:', a)\n",
    "print('변환 후 벡터:', b)\n",
    "\n",
    "# 화살표를 그리는 함수 만들기\n",
    "def arrow(start, size, color) :\n",
    "    plt.quiver(start[0], start[1], size[0], size[1], \n",
    "               angles=\"xy\", scale_units=\"xy\", scale=1, color=color)\n",
    "    \n",
    "# 화살표의 시작점\n",
    "s = np.array([0,0])  # 원점\n",
    "\n",
    "arrow(s, a, color='black')\n",
    "arrow(s, b, color='blue')\n",
    "\n",
    "# 그래프 표시\n",
    "plt.xlim([-3,3])\n",
    "plt.ylim([-3,3])\n",
    "plt.xlabel(\"x\", size=14)\n",
    "plt.ylabel(\"y\", size=14)\n",
    "plt.grid()\n",
    "plt.gca().set_aspect(\"equal\")\n",
    "plt.show"
   ]
  },
  {
   "cell_type": "markdown",
   "metadata": {},
   "source": [
    "# 4.7 고윳값과 고유벡터"
   ]
  },
  {
   "cell_type": "code",
   "execution_count": 2,
   "metadata": {},
   "outputs": [
    {
     "name": "stdout",
     "output_type": "stream",
     "text": [
      "[-0.37228132  5.37228132]\n",
      "\n",
      "[[-0.82456484 -0.41597356]\n",
      " [ 0.56576746 -0.90937671]]\n"
     ]
    }
   ],
   "source": [
    "# 리스트 4.28 linalg.eig() 함수를 사용해 고윳값 고유벡터를 구한다.\n",
    "import numpy as np\n",
    "\n",
    "a = np.array([[1,2],\n",
    "             [3,4]]) # 2x3의 행렬\n",
    "\n",
    "ev = np.linalg.eig(a)\n",
    "\n",
    "# 0번 인덱스 요소는 고윳값\n",
    "print(ev[0])\n",
    "\n",
    "print()\n",
    "\n",
    "# 1번 인덱스 요소는 고유벡터\n",
    "print(ev[1])"
   ]
  },
  {
   "cell_type": "code",
   "execution_count": null,
   "metadata": {},
   "outputs": [],
   "source": []
  }
 ],
 "metadata": {
  "kernelspec": {
   "display_name": "Python 3",
   "language": "python",
   "name": "python3"
  },
  "language_info": {
   "codemirror_mode": {
    "name": "ipython",
    "version": 3
   },
   "file_extension": ".py",
   "mimetype": "text/x-python",
   "name": "python",
   "nbconvert_exporter": "python",
   "pygments_lexer": "ipython3",
   "version": "3.6.5"
  }
 },
 "nbformat": 4,
 "nbformat_minor": 5
}
